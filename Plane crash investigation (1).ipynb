{
 "cells": [
  {
   "cell_type": "markdown",
   "id": "caeb9530-5257-457c-9893-bb088dcedf72",
   "metadata": {},
   "source": [
    "# This project is about Identification in Plane Crash Investigation"
   ]
  },
  {
   "cell_type": "markdown",
   "id": "d6dc320d-6ce3-4b8a-9dd6-012bfce4e7a6",
   "metadata": {},
   "source": [
    "## Import the required library"
   ]
  },
  {
   "cell_type": "code",
   "execution_count": 29,
   "id": "e6f05816-5f5d-4468-9f9c-7e9b6d437c3a",
   "metadata": {},
   "outputs": [],
   "source": [
    "# import numerical python for performing operations on different data structure.\n",
    "import numpy as np \n",
    "\n",
    "# import pandas for converting different file format into pandas dataframe.\n",
    "import pandas as pd\n",
    "\n",
    "# import seaborn and matplotlib for creating interactive visualization.\n",
    "import seaborn as sns\n",
    "import matplotlib.pyplot as plt"
   ]
  },
  {
   "cell_type": "markdown",
   "id": "221784b3-8595-4864-b269-27ec2fbfc014",
   "metadata": {},
   "source": [
    "## Load the data"
   ]
  },
  {
   "cell_type": "code",
   "execution_count": 31,
   "id": "b871e316-e21d-4d3e-84bf-e48a395c953c",
   "metadata": {},
   "outputs": [],
   "source": [
    "# Load the data from local\n",
    "df_FlightIncident_1000 = pd.read_csv(\"FlightIncident_1000.csv\")"
   ]
  },
  {
   "cell_type": "code",
   "execution_count": 33,
   "id": "e059397a-75a0-4894-9b6f-dbdd3dbc134f",
   "metadata": {},
   "outputs": [
    {
     "data": {
      "text/html": [
       "<div>\n",
       "<style scoped>\n",
       "    .dataframe tbody tr th:only-of-type {\n",
       "        vertical-align: middle;\n",
       "    }\n",
       "\n",
       "    .dataframe tbody tr th {\n",
       "        vertical-align: top;\n",
       "    }\n",
       "\n",
       "    .dataframe thead th {\n",
       "        text-align: right;\n",
       "    }\n",
       "</style>\n",
       "<table border=\"1\" class=\"dataframe\">\n",
       "  <thead>\n",
       "    <tr style=\"text-align: right;\">\n",
       "      <th></th>\n",
       "      <th>Flight_ID</th>\n",
       "      <th>Date</th>\n",
       "      <th>Time</th>\n",
       "      <th>Aircraft_Type</th>\n",
       "      <th>Aircraft_Age</th>\n",
       "      <th>Flight_Hours</th>\n",
       "      <th>Crew_Experience</th>\n",
       "      <th>Pilot_Error_Flag</th>\n",
       "      <th>Altitude</th>\n",
       "      <th>Airspeed</th>\n",
       "      <th>...</th>\n",
       "      <th>Air_Traffic_Control_Issue</th>\n",
       "      <th>Flight_Phase</th>\n",
       "      <th>Terrain_Type</th>\n",
       "      <th>Crash_Severity</th>\n",
       "      <th>Casualties</th>\n",
       "      <th>Survivors</th>\n",
       "      <th>External_Factor</th>\n",
       "      <th>Flight_Data_Anomaly_Score</th>\n",
       "      <th>Crash_Cause</th>\n",
       "      <th>Crash_Risk_Score</th>\n",
       "    </tr>\n",
       "  </thead>\n",
       "  <tbody>\n",
       "    <tr>\n",
       "      <th>0</th>\n",
       "      <td>FL5447</td>\n",
       "      <td>29-06-2023</td>\n",
       "      <td>02:35:26</td>\n",
       "      <td>Airbus A330</td>\n",
       "      <td>11.4</td>\n",
       "      <td>15331</td>\n",
       "      <td>13886</td>\n",
       "      <td>True</td>\n",
       "      <td>23697</td>\n",
       "      <td>225</td>\n",
       "      <td>...</td>\n",
       "      <td>True</td>\n",
       "      <td>Descent</td>\n",
       "      <td>Urban</td>\n",
       "      <td>Non-Fatal</td>\n",
       "      <td>0</td>\n",
       "      <td>77</td>\n",
       "      <td>Bird Strike</td>\n",
       "      <td>0.05</td>\n",
       "      <td>Weather</td>\n",
       "      <td>0.94</td>\n",
       "    </tr>\n",
       "    <tr>\n",
       "      <th>1</th>\n",
       "      <td>FL0032</td>\n",
       "      <td>29-12-2023</td>\n",
       "      <td>12:44:26</td>\n",
       "      <td>Airbus A350</td>\n",
       "      <td>14.9</td>\n",
       "      <td>20960</td>\n",
       "      <td>10798</td>\n",
       "      <td>True</td>\n",
       "      <td>41937</td>\n",
       "      <td>391</td>\n",
       "      <td>...</td>\n",
       "      <td>False</td>\n",
       "      <td>Cruise</td>\n",
       "      <td>Mountain</td>\n",
       "      <td>Fatal</td>\n",
       "      <td>100</td>\n",
       "      <td>52</td>\n",
       "      <td>NaN</td>\n",
       "      <td>0.29</td>\n",
       "      <td>Mechanical Failure</td>\n",
       "      <td>0.38</td>\n",
       "    </tr>\n",
       "    <tr>\n",
       "      <th>2</th>\n",
       "      <td>FL1920</td>\n",
       "      <td>11-04-2021</td>\n",
       "      <td>10:26:31</td>\n",
       "      <td>Boeing 737-900</td>\n",
       "      <td>22.4</td>\n",
       "      <td>28749</td>\n",
       "      <td>7742</td>\n",
       "      <td>True</td>\n",
       "      <td>22609</td>\n",
       "      <td>419</td>\n",
       "      <td>...</td>\n",
       "      <td>True</td>\n",
       "      <td>Landing</td>\n",
       "      <td>Mountain</td>\n",
       "      <td>Non-Fatal</td>\n",
       "      <td>0</td>\n",
       "      <td>144</td>\n",
       "      <td>Bird Strike</td>\n",
       "      <td>0.87</td>\n",
       "      <td>Mechanical Failure</td>\n",
       "      <td>0.37</td>\n",
       "    </tr>\n",
       "    <tr>\n",
       "      <th>3</th>\n",
       "      <td>FL6713</td>\n",
       "      <td>20-03-2019</td>\n",
       "      <td>02:16:37</td>\n",
       "      <td>Airbus A321</td>\n",
       "      <td>19.6</td>\n",
       "      <td>37454</td>\n",
       "      <td>11437</td>\n",
       "      <td>True</td>\n",
       "      <td>8792</td>\n",
       "      <td>224</td>\n",
       "      <td>...</td>\n",
       "      <td>False</td>\n",
       "      <td>Climb</td>\n",
       "      <td>Runway</td>\n",
       "      <td>Fatal</td>\n",
       "      <td>15</td>\n",
       "      <td>74</td>\n",
       "      <td>NaN</td>\n",
       "      <td>0.77</td>\n",
       "      <td>External</td>\n",
       "      <td>0.74</td>\n",
       "    </tr>\n",
       "    <tr>\n",
       "      <th>4</th>\n",
       "      <td>FL8130</td>\n",
       "      <td>29-09-2022</td>\n",
       "      <td>17:29:42</td>\n",
       "      <td>Boeing 737-700</td>\n",
       "      <td>21.8</td>\n",
       "      <td>5410</td>\n",
       "      <td>2918</td>\n",
       "      <td>True</td>\n",
       "      <td>6059</td>\n",
       "      <td>428</td>\n",
       "      <td>...</td>\n",
       "      <td>True</td>\n",
       "      <td>Takeoff</td>\n",
       "      <td>Rural</td>\n",
       "      <td>Non-Fatal</td>\n",
       "      <td>0</td>\n",
       "      <td>266</td>\n",
       "      <td>Bird Strike</td>\n",
       "      <td>0.07</td>\n",
       "      <td>ATC</td>\n",
       "      <td>0.99</td>\n",
       "    </tr>\n",
       "  </tbody>\n",
       "</table>\n",
       "<p>5 rows × 28 columns</p>\n",
       "</div>"
      ],
      "text/plain": [
       "  Flight_ID        Date      Time   Aircraft_Type  Aircraft_Age  Flight_Hours  \\\n",
       "0    FL5447  29-06-2023  02:35:26     Airbus A330          11.4         15331   \n",
       "1    FL0032  29-12-2023  12:44:26     Airbus A350          14.9         20960   \n",
       "2    FL1920  11-04-2021  10:26:31  Boeing 737-900          22.4         28749   \n",
       "3    FL6713  20-03-2019  02:16:37     Airbus A321          19.6         37454   \n",
       "4    FL8130  29-09-2022  17:29:42  Boeing 737-700          21.8          5410   \n",
       "\n",
       "   Crew_Experience  Pilot_Error_Flag  Altitude  Airspeed  ...  \\\n",
       "0            13886              True     23697       225  ...   \n",
       "1            10798              True     41937       391  ...   \n",
       "2             7742              True     22609       419  ...   \n",
       "3            11437              True      8792       224  ...   \n",
       "4             2918              True      6059       428  ...   \n",
       "\n",
       "  Air_Traffic_Control_Issue  Flight_Phase  Terrain_Type  Crash_Severity  \\\n",
       "0                      True       Descent         Urban       Non-Fatal   \n",
       "1                     False        Cruise      Mountain           Fatal   \n",
       "2                      True       Landing      Mountain       Non-Fatal   \n",
       "3                     False         Climb        Runway           Fatal   \n",
       "4                      True       Takeoff         Rural       Non-Fatal   \n",
       "\n",
       "   Casualties  Survivors External_Factor  Flight_Data_Anomaly_Score  \\\n",
       "0           0         77     Bird Strike                       0.05   \n",
       "1         100         52             NaN                       0.29   \n",
       "2           0        144     Bird Strike                       0.87   \n",
       "3          15         74             NaN                       0.77   \n",
       "4           0        266     Bird Strike                       0.07   \n",
       "\n",
       "          Crash_Cause Crash_Risk_Score  \n",
       "0             Weather             0.94  \n",
       "1  Mechanical Failure             0.38  \n",
       "2  Mechanical Failure             0.37  \n",
       "3            External             0.74  \n",
       "4                 ATC             0.99  \n",
       "\n",
       "[5 rows x 28 columns]"
      ]
     },
     "execution_count": 33,
     "metadata": {},
     "output_type": "execute_result"
    }
   ],
   "source": [
    "# Check the first five observation from data\n",
    "df_FlightIncident_1000.head()"
   ]
  },
  {
   "cell_type": "code",
   "execution_count": 7,
   "id": "be851d05-337d-46c4-84e7-a181fa1123de",
   "metadata": {},
   "outputs": [
    {
     "data": {
      "text/html": [
       "<div>\n",
       "<style scoped>\n",
       "    .dataframe tbody tr th:only-of-type {\n",
       "        vertical-align: middle;\n",
       "    }\n",
       "\n",
       "    .dataframe tbody tr th {\n",
       "        vertical-align: top;\n",
       "    }\n",
       "\n",
       "    .dataframe thead th {\n",
       "        text-align: right;\n",
       "    }\n",
       "</style>\n",
       "<table border=\"1\" class=\"dataframe\">\n",
       "  <thead>\n",
       "    <tr style=\"text-align: right;\">\n",
       "      <th></th>\n",
       "      <th>Flight_ID</th>\n",
       "      <th>Date</th>\n",
       "      <th>Time</th>\n",
       "      <th>Aircraft_Type</th>\n",
       "      <th>Aircraft_Age</th>\n",
       "      <th>Flight_Hours</th>\n",
       "      <th>Crew_Experience</th>\n",
       "      <th>Pilot_Error_Flag</th>\n",
       "      <th>Altitude</th>\n",
       "      <th>Airspeed</th>\n",
       "      <th>...</th>\n",
       "      <th>Air_Traffic_Control_Issue</th>\n",
       "      <th>Flight_Phase</th>\n",
       "      <th>Terrain_Type</th>\n",
       "      <th>Crash_Severity</th>\n",
       "      <th>Casualties</th>\n",
       "      <th>Survivors</th>\n",
       "      <th>External_Factor</th>\n",
       "      <th>Flight_Data_Anomaly_Score</th>\n",
       "      <th>Crash_Cause</th>\n",
       "      <th>Crash_Risk_Score</th>\n",
       "    </tr>\n",
       "  </thead>\n",
       "  <tbody>\n",
       "    <tr>\n",
       "      <th>995</th>\n",
       "      <td>FL6141</td>\n",
       "      <td>27-05-2024</td>\n",
       "      <td>09:48:25</td>\n",
       "      <td>Airbus A350</td>\n",
       "      <td>18.3</td>\n",
       "      <td>17741</td>\n",
       "      <td>9055</td>\n",
       "      <td>False</td>\n",
       "      <td>18433</td>\n",
       "      <td>436</td>\n",
       "      <td>...</td>\n",
       "      <td>False</td>\n",
       "      <td>Cruise</td>\n",
       "      <td>Mountain</td>\n",
       "      <td>Minor</td>\n",
       "      <td>0</td>\n",
       "      <td>305</td>\n",
       "      <td>NaN</td>\n",
       "      <td>0.94</td>\n",
       "      <td>ATC</td>\n",
       "      <td>0.02</td>\n",
       "    </tr>\n",
       "    <tr>\n",
       "      <th>996</th>\n",
       "      <td>FL2974</td>\n",
       "      <td>11-08-2024</td>\n",
       "      <td>14:30:15</td>\n",
       "      <td>Airbus A350</td>\n",
       "      <td>8.3</td>\n",
       "      <td>52324</td>\n",
       "      <td>17463</td>\n",
       "      <td>True</td>\n",
       "      <td>40589</td>\n",
       "      <td>301</td>\n",
       "      <td>...</td>\n",
       "      <td>False</td>\n",
       "      <td>Takeoff</td>\n",
       "      <td>Urban</td>\n",
       "      <td>Minor</td>\n",
       "      <td>0</td>\n",
       "      <td>88</td>\n",
       "      <td>Terrorism</td>\n",
       "      <td>0.08</td>\n",
       "      <td>Weather</td>\n",
       "      <td>0.09</td>\n",
       "    </tr>\n",
       "    <tr>\n",
       "      <th>997</th>\n",
       "      <td>FL6122</td>\n",
       "      <td>11-11-2019</td>\n",
       "      <td>16:54:02</td>\n",
       "      <td>Boeing 747-800</td>\n",
       "      <td>20.4</td>\n",
       "      <td>68651</td>\n",
       "      <td>3770</td>\n",
       "      <td>True</td>\n",
       "      <td>21423</td>\n",
       "      <td>249</td>\n",
       "      <td>...</td>\n",
       "      <td>False</td>\n",
       "      <td>Descent</td>\n",
       "      <td>Ocean</td>\n",
       "      <td>Non-Fatal</td>\n",
       "      <td>0</td>\n",
       "      <td>94</td>\n",
       "      <td>NaN</td>\n",
       "      <td>0.22</td>\n",
       "      <td>External</td>\n",
       "      <td>0.76</td>\n",
       "    </tr>\n",
       "    <tr>\n",
       "      <th>998</th>\n",
       "      <td>FL2911</td>\n",
       "      <td>13-01-2020</td>\n",
       "      <td>20:55:51</td>\n",
       "      <td>Airbus A320</td>\n",
       "      <td>3.4</td>\n",
       "      <td>64973</td>\n",
       "      <td>17572</td>\n",
       "      <td>True</td>\n",
       "      <td>40278</td>\n",
       "      <td>353</td>\n",
       "      <td>...</td>\n",
       "      <td>True</td>\n",
       "      <td>Cruise</td>\n",
       "      <td>Runway</td>\n",
       "      <td>Fatal</td>\n",
       "      <td>293</td>\n",
       "      <td>1</td>\n",
       "      <td>Bird Strike</td>\n",
       "      <td>0.13</td>\n",
       "      <td>External</td>\n",
       "      <td>0.10</td>\n",
       "    </tr>\n",
       "    <tr>\n",
       "      <th>999</th>\n",
       "      <td>FL9403</td>\n",
       "      <td>07-06-2023</td>\n",
       "      <td>20:38:55</td>\n",
       "      <td>Boeing 737-700</td>\n",
       "      <td>1.3</td>\n",
       "      <td>47964</td>\n",
       "      <td>6107</td>\n",
       "      <td>True</td>\n",
       "      <td>6125</td>\n",
       "      <td>158</td>\n",
       "      <td>...</td>\n",
       "      <td>True</td>\n",
       "      <td>Climb</td>\n",
       "      <td>Rural</td>\n",
       "      <td>Fatal</td>\n",
       "      <td>207</td>\n",
       "      <td>53</td>\n",
       "      <td>Terrorism</td>\n",
       "      <td>0.07</td>\n",
       "      <td>Human Error</td>\n",
       "      <td>0.31</td>\n",
       "    </tr>\n",
       "  </tbody>\n",
       "</table>\n",
       "<p>5 rows × 28 columns</p>\n",
       "</div>"
      ],
      "text/plain": [
       "    Flight_ID        Date      Time   Aircraft_Type  Aircraft_Age  \\\n",
       "995    FL6141  27-05-2024  09:48:25     Airbus A350          18.3   \n",
       "996    FL2974  11-08-2024  14:30:15     Airbus A350           8.3   \n",
       "997    FL6122  11-11-2019  16:54:02  Boeing 747-800          20.4   \n",
       "998    FL2911  13-01-2020  20:55:51     Airbus A320           3.4   \n",
       "999    FL9403  07-06-2023  20:38:55  Boeing 737-700           1.3   \n",
       "\n",
       "     Flight_Hours  Crew_Experience  Pilot_Error_Flag  Altitude  Airspeed  ...  \\\n",
       "995         17741             9055             False     18433       436  ...   \n",
       "996         52324            17463              True     40589       301  ...   \n",
       "997         68651             3770              True     21423       249  ...   \n",
       "998         64973            17572              True     40278       353  ...   \n",
       "999         47964             6107              True      6125       158  ...   \n",
       "\n",
       "    Air_Traffic_Control_Issue  Flight_Phase  Terrain_Type  Crash_Severity  \\\n",
       "995                     False        Cruise      Mountain           Minor   \n",
       "996                     False       Takeoff         Urban           Minor   \n",
       "997                     False       Descent         Ocean       Non-Fatal   \n",
       "998                      True        Cruise        Runway           Fatal   \n",
       "999                      True         Climb         Rural           Fatal   \n",
       "\n",
       "     Casualties  Survivors External_Factor  Flight_Data_Anomaly_Score  \\\n",
       "995           0        305             NaN                       0.94   \n",
       "996           0         88       Terrorism                       0.08   \n",
       "997           0         94             NaN                       0.22   \n",
       "998         293          1     Bird Strike                       0.13   \n",
       "999         207         53       Terrorism                       0.07   \n",
       "\n",
       "     Crash_Cause Crash_Risk_Score  \n",
       "995          ATC             0.02  \n",
       "996      Weather             0.09  \n",
       "997     External             0.76  \n",
       "998     External             0.10  \n",
       "999  Human Error             0.31  \n",
       "\n",
       "[5 rows x 28 columns]"
      ]
     },
     "execution_count": 7,
     "metadata": {},
     "output_type": "execute_result"
    }
   ],
   "source": [
    "# Check the last 5 observation \n",
    "df_FlightIncident_1000.tail()"
   ]
  },
  {
   "cell_type": "markdown",
   "id": "b3faf2a4-666f-4720-be69-0a1968a9a445",
   "metadata": {},
   "source": [
    "## Data Overview"
   ]
  },
  {
   "cell_type": "code",
   "execution_count": 9,
   "id": "d9c8c058-6a10-4208-80c3-6d2c95a01ba0",
   "metadata": {},
   "outputs": [
    {
     "data": {
      "text/plain": [
       "Index(['Flight_ID', 'Date', 'Time', 'Aircraft_Type', 'Aircraft_Age',\n",
       "       'Flight_Hours', 'Crew_Experience', 'Pilot_Error_Flag', 'Altitude',\n",
       "       'Airspeed', 'Weather_Condition', 'Visibility', 'Wind_Speed',\n",
       "       'Temperature', 'Icing_Condition', 'Mechanical_Failure_Flag',\n",
       "       'Engine_Failure_Type', 'Maintenance_History',\n",
       "       'Air_Traffic_Control_Issue', 'Flight_Phase', 'Terrain_Type',\n",
       "       'Crash_Severity', 'Casualties', 'Survivors', 'External_Factor',\n",
       "       'Flight_Data_Anomaly_Score', 'Crash_Cause', 'Crash_Risk_Score'],\n",
       "      dtype='object')"
      ]
     },
     "execution_count": 9,
     "metadata": {},
     "output_type": "execute_result"
    }
   ],
   "source": [
    "# checks the columns we have into the data\n",
    "df_FlightIncident_1000.columns"
   ]
  },
  {
   "cell_type": "markdown",
   "id": "2570a1ca-4bf4-41b7-91d6-10469b5a7406",
   "metadata": {},
   "source": [
    "**Interpretation**\n",
    "- Flight_ID – unique identifier for the flight.\n",
    "- Date – calendar date of the flight (YYYY‑MM‑DD).\n",
    "- Time – local time of the incident (HH:MM).\n",
    "- Aircraft_Type – model or series of the aircraft (e.g., B737‑800)\n",
    "- Aircraft_Age – years since the aircraft’s first delivery.\n",
    "- Flight_Hours – total cumulative hours the airframe has flown.\n",
    "- Crew_Experience – aggregate flight‑hours or rating level of the crew.\n",
    "- Pilot_Error_Flag – 1 = pilot action contributed; 0 = no pilot error.\n",
    "- Altitude – altitude (usually feet) at the critical moment.\n",
    "- Airspeed – indicated airspeed (knots) at the same moment.\n",
    "- Weather_Condition – overall weather label (VMC, IMC, storm, etc.).\n",
    "- Visibility – horizontal visibility (kilometres or metres).\n",
    "- Wind_Speed – surface or en‑route wind speed (knots).\n",
    "- Temperature – outside air temperature (°C).\n",
    "- Icing_Condition – 1 = icing present; 0 = none.\n",
    "- Mechanical_Failure_Flag – 1 = mechanical issue noted; 0 = none.\n",
    "- Engine_Failure_Type – code/label if an engine failure occurred.\n",
    "- Maintenance_History – notes or score summarizing recent maintenance.\n",
    "- Air_Traffic_Control_Issue – 1 = ATC contributed; 0 = none.\n",
    "- Flight_Phase – phase when event happened (take‑off, cruise, etc.).\n",
    "- Terrain_Type – terrain at crash site (mountain, sea, flat land…).\n",
    "- Crash_Severity – qualitative scale (Minor, Major, Catastrophic).\n",
    "- Casualties – number of fatalities.\n",
    "- Survivors – number of people who survived.\n",
    "- External_Factor – bird strike, sabotage, volcanic ash, etc.\n",
    "- Flight_Data_Anomaly_Score – numeric score indicating data deviations.\n",
    "- Crash_Cause – final determined primary cause category.\n",
    "- Crash_Risk_Score – composite risk rating calculated for the flight."
   ]
  },
  {
   "cell_type": "code",
   "execution_count": 11,
   "id": "b250e67c-9280-4080-a58b-0ade1a0342ac",
   "metadata": {},
   "outputs": [
    {
     "data": {
      "text/plain": [
       "(1000, 28)"
      ]
     },
     "execution_count": 11,
     "metadata": {},
     "output_type": "execute_result"
    }
   ],
   "source": [
    "# Check the shape of data\n",
    "df_FlightIncident_1000.shape"
   ]
  },
  {
   "cell_type": "markdown",
   "id": "92174fae-21cc-417c-8f46-5ff3b9f4617c",
   "metadata": {},
   "source": [
    "**Interpretation**\n",
    " - we have 1000 observation and 28 attributes"
   ]
  },
  {
   "cell_type": "code",
   "execution_count": 13,
   "id": "2cc0e90b-1e5e-4a19-a580-a65a1c8225b3",
   "metadata": {},
   "outputs": [
    {
     "name": "stdout",
     "output_type": "stream",
     "text": [
      "<class 'pandas.core.frame.DataFrame'>\n",
      "RangeIndex: 1000 entries, 0 to 999\n",
      "Data columns (total 28 columns):\n",
      " #   Column                     Non-Null Count  Dtype  \n",
      "---  ------                     --------------  -----  \n",
      " 0   Flight_ID                  1000 non-null   object \n",
      " 1   Date                       1000 non-null   object \n",
      " 2   Time                       1000 non-null   object \n",
      " 3   Aircraft_Type              1000 non-null   object \n",
      " 4   Aircraft_Age               1000 non-null   float64\n",
      " 5   Flight_Hours               1000 non-null   int64  \n",
      " 6   Crew_Experience            1000 non-null   int64  \n",
      " 7   Pilot_Error_Flag           1000 non-null   bool   \n",
      " 8   Altitude                   1000 non-null   int64  \n",
      " 9   Airspeed                   1000 non-null   int64  \n",
      " 10  Weather_Condition          1000 non-null   object \n",
      " 11  Visibility                 1000 non-null   float64\n",
      " 12  Wind_Speed                 1000 non-null   int64  \n",
      " 13  Temperature                1000 non-null   int64  \n",
      " 14  Icing_Condition            1000 non-null   bool   \n",
      " 15  Mechanical_Failure_Flag    1000 non-null   bool   \n",
      " 16  Engine_Failure_Type        754 non-null    object \n",
      " 17  Maintenance_History        1000 non-null   int64  \n",
      " 18  Air_Traffic_Control_Issue  1000 non-null   bool   \n",
      " 19  Flight_Phase               1000 non-null   object \n",
      " 20  Terrain_Type               1000 non-null   object \n",
      " 21  Crash_Severity             1000 non-null   object \n",
      " 22  Casualties                 1000 non-null   int64  \n",
      " 23  Survivors                  1000 non-null   int64  \n",
      " 24  External_Factor            673 non-null    object \n",
      " 25  Flight_Data_Anomaly_Score  1000 non-null   float64\n",
      " 26  Crash_Cause                1000 non-null   object \n",
      " 27  Crash_Risk_Score           1000 non-null   float64\n",
      "dtypes: bool(4), float64(4), int64(9), object(11)\n",
      "memory usage: 191.5+ KB\n"
     ]
    }
   ],
   "source": [
    "df_FlightIncident_1000.info()"
   ]
  },
  {
   "cell_type": "markdown",
   "id": "08021c38-603a-49a0-9f76-8d17feeb2523",
   "metadata": {},
   "source": [
    "**Interpretation**\n",
    " - We have 16 numerical columns and 4 categorical columns\n",
    " - This data acquires 1.5+ mb space. "
   ]
  },
  {
   "cell_type": "code",
   "execution_count": 27,
   "id": "8bd09c77-26c3-4d9c-98c5-d4b02c101906",
   "metadata": {},
   "outputs": [
    {
     "data": {
      "text/html": [
       "<div>\n",
       "<style scoped>\n",
       "    .dataframe tbody tr th:only-of-type {\n",
       "        vertical-align: middle;\n",
       "    }\n",
       "\n",
       "    .dataframe tbody tr th {\n",
       "        vertical-align: top;\n",
       "    }\n",
       "\n",
       "    .dataframe thead th {\n",
       "        text-align: right;\n",
       "    }\n",
       "</style>\n",
       "<table border=\"1\" class=\"dataframe\">\n",
       "  <thead>\n",
       "    <tr style=\"text-align: right;\">\n",
       "      <th></th>\n",
       "      <th>count</th>\n",
       "      <th>mean</th>\n",
       "      <th>std</th>\n",
       "      <th>min</th>\n",
       "      <th>25%</th>\n",
       "      <th>50%</th>\n",
       "      <th>75%</th>\n",
       "      <th>max</th>\n",
       "    </tr>\n",
       "  </thead>\n",
       "  <tbody>\n",
       "    <tr>\n",
       "      <th>Aircraft_Age</th>\n",
       "      <td>1000.0</td>\n",
       "      <td>12.72350</td>\n",
       "      <td>7.193218</td>\n",
       "      <td>0.5</td>\n",
       "      <td>6.60</td>\n",
       "      <td>12.35</td>\n",
       "      <td>19.10</td>\n",
       "      <td>25.0</td>\n",
       "    </tr>\n",
       "    <tr>\n",
       "      <th>Flight_Hours</th>\n",
       "      <td>1000.0</td>\n",
       "      <td>36917.32500</td>\n",
       "      <td>19102.546207</td>\n",
       "      <td>5002.0</td>\n",
       "      <td>20088.00</td>\n",
       "      <td>35875.50</td>\n",
       "      <td>53962.25</td>\n",
       "      <td>69994.0</td>\n",
       "    </tr>\n",
       "    <tr>\n",
       "      <th>Crew_Experience</th>\n",
       "      <td>1000.0</td>\n",
       "      <td>10647.31800</td>\n",
       "      <td>5479.680041</td>\n",
       "      <td>1000.0</td>\n",
       "      <td>5945.00</td>\n",
       "      <td>10605.00</td>\n",
       "      <td>15285.75</td>\n",
       "      <td>19966.0</td>\n",
       "    </tr>\n",
       "    <tr>\n",
       "      <th>Altitude</th>\n",
       "      <td>1000.0</td>\n",
       "      <td>20989.67900</td>\n",
       "      <td>12145.497234</td>\n",
       "      <td>24.0</td>\n",
       "      <td>10295.50</td>\n",
       "      <td>21069.00</td>\n",
       "      <td>31643.00</td>\n",
       "      <td>41937.0</td>\n",
       "    </tr>\n",
       "    <tr>\n",
       "      <th>Airspeed</th>\n",
       "      <td>1000.0</td>\n",
       "      <td>330.40800</td>\n",
       "      <td>130.472336</td>\n",
       "      <td>100.0</td>\n",
       "      <td>221.00</td>\n",
       "      <td>328.00</td>\n",
       "      <td>445.25</td>\n",
       "      <td>548.0</td>\n",
       "    </tr>\n",
       "    <tr>\n",
       "      <th>Visibility</th>\n",
       "      <td>1000.0</td>\n",
       "      <td>7.77910</td>\n",
       "      <td>4.271299</td>\n",
       "      <td>0.5</td>\n",
       "      <td>4.00</td>\n",
       "      <td>7.80</td>\n",
       "      <td>11.60</td>\n",
       "      <td>15.0</td>\n",
       "    </tr>\n",
       "    <tr>\n",
       "      <th>Wind_Speed</th>\n",
       "      <td>1000.0</td>\n",
       "      <td>17.04200</td>\n",
       "      <td>10.214234</td>\n",
       "      <td>0.0</td>\n",
       "      <td>9.00</td>\n",
       "      <td>17.00</td>\n",
       "      <td>26.00</td>\n",
       "      <td>34.0</td>\n",
       "    </tr>\n",
       "    <tr>\n",
       "      <th>Temperature</th>\n",
       "      <td>1000.0</td>\n",
       "      <td>11.19600</td>\n",
       "      <td>18.516707</td>\n",
       "      <td>-19.0</td>\n",
       "      <td>-4.25</td>\n",
       "      <td>10.00</td>\n",
       "      <td>27.00</td>\n",
       "      <td>44.0</td>\n",
       "    </tr>\n",
       "    <tr>\n",
       "      <th>Maintenance_History</th>\n",
       "      <td>1000.0</td>\n",
       "      <td>2.47800</td>\n",
       "      <td>1.695993</td>\n",
       "      <td>0.0</td>\n",
       "      <td>1.00</td>\n",
       "      <td>2.00</td>\n",
       "      <td>4.00</td>\n",
       "      <td>5.0</td>\n",
       "    </tr>\n",
       "    <tr>\n",
       "      <th>Casualties</th>\n",
       "      <td>1000.0</td>\n",
       "      <td>61.05800</td>\n",
       "      <td>102.536395</td>\n",
       "      <td>0.0</td>\n",
       "      <td>0.00</td>\n",
       "      <td>0.00</td>\n",
       "      <td>109.00</td>\n",
       "      <td>349.0</td>\n",
       "    </tr>\n",
       "    <tr>\n",
       "      <th>Survivors</th>\n",
       "      <td>1000.0</td>\n",
       "      <td>137.54100</td>\n",
       "      <td>101.240733</td>\n",
       "      <td>0.0</td>\n",
       "      <td>48.00</td>\n",
       "      <td>119.00</td>\n",
       "      <td>220.00</td>\n",
       "      <td>349.0</td>\n",
       "    </tr>\n",
       "    <tr>\n",
       "      <th>Flight_Data_Anomaly_Score</th>\n",
       "      <td>1000.0</td>\n",
       "      <td>0.50727</td>\n",
       "      <td>0.293027</td>\n",
       "      <td>0.0</td>\n",
       "      <td>0.26</td>\n",
       "      <td>0.52</td>\n",
       "      <td>0.76</td>\n",
       "      <td>1.0</td>\n",
       "    </tr>\n",
       "    <tr>\n",
       "      <th>Crash_Risk_Score</th>\n",
       "      <td>1000.0</td>\n",
       "      <td>0.50341</td>\n",
       "      <td>0.290379</td>\n",
       "      <td>0.0</td>\n",
       "      <td>0.25</td>\n",
       "      <td>0.50</td>\n",
       "      <td>0.76</td>\n",
       "      <td>1.0</td>\n",
       "    </tr>\n",
       "  </tbody>\n",
       "</table>\n",
       "</div>"
      ],
      "text/plain": [
       "                            count         mean           std     min  \\\n",
       "Aircraft_Age               1000.0     12.72350      7.193218     0.5   \n",
       "Flight_Hours               1000.0  36917.32500  19102.546207  5002.0   \n",
       "Crew_Experience            1000.0  10647.31800   5479.680041  1000.0   \n",
       "Altitude                   1000.0  20989.67900  12145.497234    24.0   \n",
       "Airspeed                   1000.0    330.40800    130.472336   100.0   \n",
       "Visibility                 1000.0      7.77910      4.271299     0.5   \n",
       "Wind_Speed                 1000.0     17.04200     10.214234     0.0   \n",
       "Temperature                1000.0     11.19600     18.516707   -19.0   \n",
       "Maintenance_History        1000.0      2.47800      1.695993     0.0   \n",
       "Casualties                 1000.0     61.05800    102.536395     0.0   \n",
       "Survivors                  1000.0    137.54100    101.240733     0.0   \n",
       "Flight_Data_Anomaly_Score  1000.0      0.50727      0.293027     0.0   \n",
       "Crash_Risk_Score           1000.0      0.50341      0.290379     0.0   \n",
       "\n",
       "                                25%       50%       75%      max  \n",
       "Aircraft_Age                   6.60     12.35     19.10     25.0  \n",
       "Flight_Hours               20088.00  35875.50  53962.25  69994.0  \n",
       "Crew_Experience             5945.00  10605.00  15285.75  19966.0  \n",
       "Altitude                   10295.50  21069.00  31643.00  41937.0  \n",
       "Airspeed                     221.00    328.00    445.25    548.0  \n",
       "Visibility                     4.00      7.80     11.60     15.0  \n",
       "Wind_Speed                     9.00     17.00     26.00     34.0  \n",
       "Temperature                   -4.25     10.00     27.00     44.0  \n",
       "Maintenance_History            1.00      2.00      4.00      5.0  \n",
       "Casualties                     0.00      0.00    109.00    349.0  \n",
       "Survivors                     48.00    119.00    220.00    349.0  \n",
       "Flight_Data_Anomaly_Score      0.26      0.52      0.76      1.0  \n",
       "Crash_Risk_Score               0.25      0.50      0.76      1.0  "
      ]
     },
     "execution_count": 27,
     "metadata": {},
     "output_type": "execute_result"
    }
   ],
   "source": [
    "# Check for basics statistics \n",
    "df_FlightIncident_1000.describe().T"
   ]
  },
  {
   "cell_type": "markdown",
   "id": "584d9956-712a-4369-9a0f-dcb8ebde915b",
   "metadata": {},
   "source": [
    "**Interpretation**\n",
    " - After analyzing the dataset, it is observed that the Crash_Risk_Score column contains noticeable outliers, while the remaining columns exhibit values within a normal or expected range."
   ]
  },
  {
   "cell_type": "markdown",
   "id": "a9bcc988-07b0-4d62-877a-36cdc684ca48",
   "metadata": {},
   "source": [
    "## Data Preprocessing"
   ]
  },
  {
   "cell_type": "code",
   "execution_count": 36,
   "id": "9aa6d263-6ef5-46c9-985d-c99bb2889d97",
   "metadata": {},
   "outputs": [
    {
     "data": {
      "text/plain": [
       "Index(['Flight_ID', 'Date', 'Time', 'Aircraft_Type', 'Aircraft_Age',\n",
       "       'Flight_Hours', 'Crew_Experience', 'Pilot_Error_Flag', 'Altitude',\n",
       "       'Airspeed', 'Weather_Condition', 'Visibility', 'Wind_Speed',\n",
       "       'Temperature', 'Icing_Condition', 'Mechanical_Failure_Flag',\n",
       "       'Engine_Failure_Type', 'Maintenance_History',\n",
       "       'Air_Traffic_Control_Issue', 'Flight_Phase', 'Terrain_Type',\n",
       "       'Crash_Severity', 'Casualties', 'Survivors', 'External_Factor',\n",
       "       'Flight_Data_Anomaly_Score', 'Crash_Cause', 'Crash_Risk_Score'],\n",
       "      dtype='object')"
      ]
     },
     "execution_count": 36,
     "metadata": {},
     "output_type": "execute_result"
    }
   ],
   "source": [
    "# Check the name of the columns \n",
    "df_FlightIncident_1000.columns"
   ]
  },
  {
   "cell_type": "markdown",
   "id": "b0d0420f-4235-4cb7-832f-286aa654353e",
   "metadata": {},
   "source": [
    "**Interpretation**\n",
    " - After looking at the columns i conclude that there is no need to rename the columns."
   ]
  },
  {
   "cell_type": "code",
   "execution_count": 39,
   "id": "592bcc67-239f-47b2-acd6-2455ea28b41e",
   "metadata": {},
   "outputs": [
    {
     "data": {
      "text/html": [
       "<div>\n",
       "<style scoped>\n",
       "    .dataframe tbody tr th:only-of-type {\n",
       "        vertical-align: middle;\n",
       "    }\n",
       "\n",
       "    .dataframe tbody tr th {\n",
       "        vertical-align: top;\n",
       "    }\n",
       "\n",
       "    .dataframe thead th {\n",
       "        text-align: right;\n",
       "    }\n",
       "</style>\n",
       "<table border=\"1\" class=\"dataframe\">\n",
       "  <thead>\n",
       "    <tr style=\"text-align: right;\">\n",
       "      <th></th>\n",
       "      <th>Flight_ID</th>\n",
       "      <th>Date</th>\n",
       "      <th>Time</th>\n",
       "      <th>Aircraft_Type</th>\n",
       "      <th>Aircraft_Age</th>\n",
       "      <th>Flight_Hours</th>\n",
       "      <th>Crew_Experience</th>\n",
       "      <th>Pilot_Error_Flag</th>\n",
       "      <th>Altitude</th>\n",
       "      <th>Airspeed</th>\n",
       "      <th>...</th>\n",
       "      <th>Air_Traffic_Control_Issue</th>\n",
       "      <th>Flight_Phase</th>\n",
       "      <th>Terrain_Type</th>\n",
       "      <th>Crash_Severity</th>\n",
       "      <th>Casualties</th>\n",
       "      <th>Survivors</th>\n",
       "      <th>External_Factor</th>\n",
       "      <th>Flight_Data_Anomaly_Score</th>\n",
       "      <th>Crash_Cause</th>\n",
       "      <th>Crash_Risk_Score</th>\n",
       "    </tr>\n",
       "  </thead>\n",
       "  <tbody>\n",
       "    <tr>\n",
       "      <th>0</th>\n",
       "      <td>FL5447</td>\n",
       "      <td>29-06-2023</td>\n",
       "      <td>02:35:26</td>\n",
       "      <td>Airbus A330</td>\n",
       "      <td>11.4</td>\n",
       "      <td>15331</td>\n",
       "      <td>13886</td>\n",
       "      <td>True</td>\n",
       "      <td>23697</td>\n",
       "      <td>225</td>\n",
       "      <td>...</td>\n",
       "      <td>True</td>\n",
       "      <td>Descent</td>\n",
       "      <td>Urban</td>\n",
       "      <td>Non-Fatal</td>\n",
       "      <td>0</td>\n",
       "      <td>77</td>\n",
       "      <td>Bird Strike</td>\n",
       "      <td>0.05</td>\n",
       "      <td>Weather</td>\n",
       "      <td>0.94</td>\n",
       "    </tr>\n",
       "    <tr>\n",
       "      <th>1</th>\n",
       "      <td>FL0032</td>\n",
       "      <td>29-12-2023</td>\n",
       "      <td>12:44:26</td>\n",
       "      <td>Airbus A350</td>\n",
       "      <td>14.9</td>\n",
       "      <td>20960</td>\n",
       "      <td>10798</td>\n",
       "      <td>True</td>\n",
       "      <td>41937</td>\n",
       "      <td>391</td>\n",
       "      <td>...</td>\n",
       "      <td>False</td>\n",
       "      <td>Cruise</td>\n",
       "      <td>Mountain</td>\n",
       "      <td>Fatal</td>\n",
       "      <td>100</td>\n",
       "      <td>52</td>\n",
       "      <td>NaN</td>\n",
       "      <td>0.29</td>\n",
       "      <td>Mechanical Failure</td>\n",
       "      <td>0.38</td>\n",
       "    </tr>\n",
       "    <tr>\n",
       "      <th>2</th>\n",
       "      <td>FL1920</td>\n",
       "      <td>11-04-2021</td>\n",
       "      <td>10:26:31</td>\n",
       "      <td>Boeing 737-900</td>\n",
       "      <td>22.4</td>\n",
       "      <td>28749</td>\n",
       "      <td>7742</td>\n",
       "      <td>True</td>\n",
       "      <td>22609</td>\n",
       "      <td>419</td>\n",
       "      <td>...</td>\n",
       "      <td>True</td>\n",
       "      <td>Landing</td>\n",
       "      <td>Mountain</td>\n",
       "      <td>Non-Fatal</td>\n",
       "      <td>0</td>\n",
       "      <td>144</td>\n",
       "      <td>Bird Strike</td>\n",
       "      <td>0.87</td>\n",
       "      <td>Mechanical Failure</td>\n",
       "      <td>0.37</td>\n",
       "    </tr>\n",
       "    <tr>\n",
       "      <th>3</th>\n",
       "      <td>FL6713</td>\n",
       "      <td>20-03-2019</td>\n",
       "      <td>02:16:37</td>\n",
       "      <td>Airbus A321</td>\n",
       "      <td>19.6</td>\n",
       "      <td>37454</td>\n",
       "      <td>11437</td>\n",
       "      <td>True</td>\n",
       "      <td>8792</td>\n",
       "      <td>224</td>\n",
       "      <td>...</td>\n",
       "      <td>False</td>\n",
       "      <td>Climb</td>\n",
       "      <td>Runway</td>\n",
       "      <td>Fatal</td>\n",
       "      <td>15</td>\n",
       "      <td>74</td>\n",
       "      <td>NaN</td>\n",
       "      <td>0.77</td>\n",
       "      <td>External</td>\n",
       "      <td>0.74</td>\n",
       "    </tr>\n",
       "    <tr>\n",
       "      <th>4</th>\n",
       "      <td>FL8130</td>\n",
       "      <td>29-09-2022</td>\n",
       "      <td>17:29:42</td>\n",
       "      <td>Boeing 737-700</td>\n",
       "      <td>21.8</td>\n",
       "      <td>5410</td>\n",
       "      <td>2918</td>\n",
       "      <td>True</td>\n",
       "      <td>6059</td>\n",
       "      <td>428</td>\n",
       "      <td>...</td>\n",
       "      <td>True</td>\n",
       "      <td>Takeoff</td>\n",
       "      <td>Rural</td>\n",
       "      <td>Non-Fatal</td>\n",
       "      <td>0</td>\n",
       "      <td>266</td>\n",
       "      <td>Bird Strike</td>\n",
       "      <td>0.07</td>\n",
       "      <td>ATC</td>\n",
       "      <td>0.99</td>\n",
       "    </tr>\n",
       "  </tbody>\n",
       "</table>\n",
       "<p>5 rows × 28 columns</p>\n",
       "</div>"
      ],
      "text/plain": [
       "  Flight_ID        Date      Time   Aircraft_Type  Aircraft_Age  Flight_Hours  \\\n",
       "0    FL5447  29-06-2023  02:35:26     Airbus A330          11.4         15331   \n",
       "1    FL0032  29-12-2023  12:44:26     Airbus A350          14.9         20960   \n",
       "2    FL1920  11-04-2021  10:26:31  Boeing 737-900          22.4         28749   \n",
       "3    FL6713  20-03-2019  02:16:37     Airbus A321          19.6         37454   \n",
       "4    FL8130  29-09-2022  17:29:42  Boeing 737-700          21.8          5410   \n",
       "\n",
       "   Crew_Experience  Pilot_Error_Flag  Altitude  Airspeed  ...  \\\n",
       "0            13886              True     23697       225  ...   \n",
       "1            10798              True     41937       391  ...   \n",
       "2             7742              True     22609       419  ...   \n",
       "3            11437              True      8792       224  ...   \n",
       "4             2918              True      6059       428  ...   \n",
       "\n",
       "  Air_Traffic_Control_Issue  Flight_Phase  Terrain_Type  Crash_Severity  \\\n",
       "0                      True       Descent         Urban       Non-Fatal   \n",
       "1                     False        Cruise      Mountain           Fatal   \n",
       "2                      True       Landing      Mountain       Non-Fatal   \n",
       "3                     False         Climb        Runway           Fatal   \n",
       "4                      True       Takeoff         Rural       Non-Fatal   \n",
       "\n",
       "   Casualties  Survivors External_Factor  Flight_Data_Anomaly_Score  \\\n",
       "0           0         77     Bird Strike                       0.05   \n",
       "1         100         52             NaN                       0.29   \n",
       "2           0        144     Bird Strike                       0.87   \n",
       "3          15         74             NaN                       0.77   \n",
       "4           0        266     Bird Strike                       0.07   \n",
       "\n",
       "          Crash_Cause Crash_Risk_Score  \n",
       "0             Weather             0.94  \n",
       "1  Mechanical Failure             0.38  \n",
       "2  Mechanical Failure             0.37  \n",
       "3            External             0.74  \n",
       "4                 ATC             0.99  \n",
       "\n",
       "[5 rows x 28 columns]"
      ]
     },
     "execution_count": 39,
     "metadata": {},
     "output_type": "execute_result"
    }
   ],
   "source": [
    "# Check the format of columns \n",
    "df_FlightIncident_1000.head()"
   ]
  },
  {
   "cell_type": "markdown",
   "id": "57a32b64-4a2a-4c5b-8d69-76d98eb8cdf5",
   "metadata": {},
   "source": [
    "**Interpretation**\n",
    " - There is few impurities are present that we solve in basic Excel."
   ]
  },
  {
   "cell_type": "markdown",
   "id": "9da87127-2437-4766-99e8-dbd9fc4e8cb0",
   "metadata": {},
   "source": [
    "### Null Value Handling"
   ]
  },
  {
   "cell_type": "code",
   "execution_count": 43,
   "id": "3f860a85-9bde-4d9e-b972-8c75f68a9943",
   "metadata": {},
   "outputs": [
    {
     "data": {
      "text/plain": [
       "Flight_ID                      0\n",
       "Date                           0\n",
       "Time                           0\n",
       "Aircraft_Type                  0\n",
       "Aircraft_Age                   0\n",
       "Flight_Hours                   0\n",
       "Crew_Experience                0\n",
       "Pilot_Error_Flag               0\n",
       "Altitude                       0\n",
       "Airspeed                       0\n",
       "Weather_Condition              0\n",
       "Visibility                     0\n",
       "Wind_Speed                     0\n",
       "Temperature                    0\n",
       "Icing_Condition                0\n",
       "Mechanical_Failure_Flag        0\n",
       "Engine_Failure_Type          246\n",
       "Maintenance_History            0\n",
       "Air_Traffic_Control_Issue      0\n",
       "Flight_Phase                   0\n",
       "Terrain_Type                   0\n",
       "Crash_Severity                 0\n",
       "Casualties                     0\n",
       "Survivors                      0\n",
       "External_Factor              327\n",
       "Flight_Data_Anomaly_Score      0\n",
       "Crash_Cause                    0\n",
       "Crash_Risk_Score               0\n",
       "dtype: int64"
      ]
     },
     "execution_count": 43,
     "metadata": {},
     "output_type": "execute_result"
    }
   ],
   "source": [
    "# Check the count null record\n",
    "df_FlightIncident_1000.isnull().sum()"
   ]
  },
  {
   "cell_type": "code",
   "execution_count": 45,
   "id": "83ed8025-f3fe-4f44-a143-eb9a99cf3c6b",
   "metadata": {},
   "outputs": [
    {
     "data": {
      "text/plain": [
       "Flight_ID                     0.0\n",
       "Date                          0.0\n",
       "Time                          0.0\n",
       "Aircraft_Type                 0.0\n",
       "Aircraft_Age                  0.0\n",
       "Flight_Hours                  0.0\n",
       "Crew_Experience               0.0\n",
       "Pilot_Error_Flag              0.0\n",
       "Altitude                      0.0\n",
       "Airspeed                      0.0\n",
       "Weather_Condition             0.0\n",
       "Visibility                    0.0\n",
       "Wind_Speed                    0.0\n",
       "Temperature                   0.0\n",
       "Icing_Condition               0.0\n",
       "Mechanical_Failure_Flag       0.0\n",
       "Engine_Failure_Type          24.6\n",
       "Maintenance_History           0.0\n",
       "Air_Traffic_Control_Issue     0.0\n",
       "Flight_Phase                  0.0\n",
       "Terrain_Type                  0.0\n",
       "Crash_Severity                0.0\n",
       "Casualties                    0.0\n",
       "Survivors                     0.0\n",
       "External_Factor              32.7\n",
       "Flight_Data_Anomaly_Score     0.0\n",
       "Crash_Cause                   0.0\n",
       "Crash_Risk_Score              0.0\n",
       "dtype: float64"
      ]
     },
     "execution_count": 45,
     "metadata": {},
     "output_type": "execute_result"
    }
   ],
   "source": [
    "# Find the %ge for null records\n",
    "# Notes we have to find %ge of null records because the laws we have handlin the null values depends on %ge.\n",
    "df_FlightIncident_1000.isnull().sum()/len(df_FlightIncident_1000)*100"
   ]
  },
  {
   "cell_type": "markdown",
   "id": "dc3982c1-29c7-43da-8110-9e3efc5ec741",
   "metadata": {},
   "source": [
    "**Interpretation**\n",
    "- After observation, we conclude that there are 2 null records present."
   ]
  },
  {
   "cell_type": "markdown",
   "id": "611f1527-121f-4452-b6b0-faab1786e5c5",
   "metadata": {},
   "source": [
    "### Outliers Treatment"
   ]
  },
  {
   "cell_type": "code",
   "execution_count": null,
   "id": "703c0df7-8cc2-43f1-b9ba-71873f826656",
   "metadata": {},
   "outputs": [],
   "source": []
  },
  {
   "cell_type": "markdown",
   "id": "73a1cba7-23af-4c11-814b-392779c8b9b3",
   "metadata": {},
   "source": [
    "### EDA:- Exploratorary Data Analysis"
   ]
  },
  {
   "cell_type": "markdown",
   "id": "c458ddfe-ec64-4913-8da8-923e75a4cd55",
   "metadata": {},
   "source": [
    "### Univarient Analysis"
   ]
  },
  {
   "cell_type": "code",
   "execution_count": 53,
   "id": "3f405c76-a1ec-40a9-ae1c-8b43a095def2",
   "metadata": {},
   "outputs": [
    {
     "data": {
      "text/html": [
       "<div>\n",
       "<style scoped>\n",
       "    .dataframe tbody tr th:only-of-type {\n",
       "        vertical-align: middle;\n",
       "    }\n",
       "\n",
       "    .dataframe tbody tr th {\n",
       "        vertical-align: top;\n",
       "    }\n",
       "\n",
       "    .dataframe thead th {\n",
       "        text-align: right;\n",
       "    }\n",
       "</style>\n",
       "<table border=\"1\" class=\"dataframe\">\n",
       "  <thead>\n",
       "    <tr style=\"text-align: right;\">\n",
       "      <th></th>\n",
       "      <th>Aircraft_Age</th>\n",
       "      <th>Flight_Hours</th>\n",
       "      <th>Crew_Experience</th>\n",
       "      <th>Altitude</th>\n",
       "      <th>Airspeed</th>\n",
       "      <th>Visibility</th>\n",
       "      <th>Wind_Speed</th>\n",
       "      <th>Temperature</th>\n",
       "      <th>Maintenance_History</th>\n",
       "      <th>Casualties</th>\n",
       "      <th>Survivors</th>\n",
       "      <th>Flight_Data_Anomaly_Score</th>\n",
       "      <th>Crash_Risk_Score</th>\n",
       "    </tr>\n",
       "  </thead>\n",
       "  <tbody>\n",
       "    <tr>\n",
       "      <th>0</th>\n",
       "      <td>11.4</td>\n",
       "      <td>15331</td>\n",
       "      <td>13886</td>\n",
       "      <td>23697</td>\n",
       "      <td>225</td>\n",
       "      <td>10.5</td>\n",
       "      <td>23</td>\n",
       "      <td>24</td>\n",
       "      <td>0</td>\n",
       "      <td>0</td>\n",
       "      <td>77</td>\n",
       "      <td>0.05</td>\n",
       "      <td>0.94</td>\n",
       "    </tr>\n",
       "    <tr>\n",
       "      <th>1</th>\n",
       "      <td>14.9</td>\n",
       "      <td>20960</td>\n",
       "      <td>10798</td>\n",
       "      <td>41937</td>\n",
       "      <td>391</td>\n",
       "      <td>4.6</td>\n",
       "      <td>11</td>\n",
       "      <td>-9</td>\n",
       "      <td>4</td>\n",
       "      <td>100</td>\n",
       "      <td>52</td>\n",
       "      <td>0.29</td>\n",
       "      <td>0.38</td>\n",
       "    </tr>\n",
       "    <tr>\n",
       "      <th>2</th>\n",
       "      <td>22.4</td>\n",
       "      <td>28749</td>\n",
       "      <td>7742</td>\n",
       "      <td>22609</td>\n",
       "      <td>419</td>\n",
       "      <td>10.4</td>\n",
       "      <td>6</td>\n",
       "      <td>1</td>\n",
       "      <td>0</td>\n",
       "      <td>0</td>\n",
       "      <td>144</td>\n",
       "      <td>0.87</td>\n",
       "      <td>0.37</td>\n",
       "    </tr>\n",
       "    <tr>\n",
       "      <th>3</th>\n",
       "      <td>19.6</td>\n",
       "      <td>37454</td>\n",
       "      <td>11437</td>\n",
       "      <td>8792</td>\n",
       "      <td>224</td>\n",
       "      <td>14.2</td>\n",
       "      <td>10</td>\n",
       "      <td>15</td>\n",
       "      <td>5</td>\n",
       "      <td>15</td>\n",
       "      <td>74</td>\n",
       "      <td>0.77</td>\n",
       "      <td>0.74</td>\n",
       "    </tr>\n",
       "    <tr>\n",
       "      <th>4</th>\n",
       "      <td>21.8</td>\n",
       "      <td>5410</td>\n",
       "      <td>2918</td>\n",
       "      <td>6059</td>\n",
       "      <td>428</td>\n",
       "      <td>10.6</td>\n",
       "      <td>29</td>\n",
       "      <td>23</td>\n",
       "      <td>1</td>\n",
       "      <td>0</td>\n",
       "      <td>266</td>\n",
       "      <td>0.07</td>\n",
       "      <td>0.99</td>\n",
       "    </tr>\n",
       "  </tbody>\n",
       "</table>\n",
       "</div>"
      ],
      "text/plain": [
       "   Aircraft_Age  Flight_Hours  Crew_Experience  Altitude  Airspeed  \\\n",
       "0          11.4         15331            13886     23697       225   \n",
       "1          14.9         20960            10798     41937       391   \n",
       "2          22.4         28749             7742     22609       419   \n",
       "3          19.6         37454            11437      8792       224   \n",
       "4          21.8          5410             2918      6059       428   \n",
       "\n",
       "   Visibility  Wind_Speed  Temperature  Maintenance_History  Casualties  \\\n",
       "0        10.5          23           24                    0           0   \n",
       "1         4.6          11           -9                    4         100   \n",
       "2        10.4           6            1                    0           0   \n",
       "3        14.2          10           15                    5          15   \n",
       "4        10.6          29           23                    1           0   \n",
       "\n",
       "   Survivors  Flight_Data_Anomaly_Score  Crash_Risk_Score  \n",
       "0         77                       0.05              0.94  \n",
       "1         52                       0.29              0.38  \n",
       "2        144                       0.87              0.37  \n",
       "3         74                       0.77              0.74  \n",
       "4        266                       0.07              0.99  "
      ]
     },
     "execution_count": 53,
     "metadata": {},
     "output_type": "execute_result"
    }
   ],
   "source": [
    "# To perform univarient analysis let's seggregrate Numerical and Categorical data.\n",
    "df_num = df_FlightIncident_1000.select_dtypes(include = 'number')\n",
    "\n",
    "\n",
    "# Check the numerical data \n",
    "df_num.head()"
   ]
  },
  {
   "cell_type": "code",
   "execution_count": 55,
   "id": "048563c8-b918-42ff-81d4-374b471abc21",
   "metadata": {},
   "outputs": [
    {
     "data": {
      "text/html": [
       "<div>\n",
       "<style scoped>\n",
       "    .dataframe tbody tr th:only-of-type {\n",
       "        vertical-align: middle;\n",
       "    }\n",
       "\n",
       "    .dataframe tbody tr th {\n",
       "        vertical-align: top;\n",
       "    }\n",
       "\n",
       "    .dataframe thead th {\n",
       "        text-align: right;\n",
       "    }\n",
       "</style>\n",
       "<table border=\"1\" class=\"dataframe\">\n",
       "  <thead>\n",
       "    <tr style=\"text-align: right;\">\n",
       "      <th></th>\n",
       "      <th>Flight_ID</th>\n",
       "      <th>Date</th>\n",
       "      <th>Time</th>\n",
       "      <th>Aircraft_Type</th>\n",
       "      <th>Weather_Condition</th>\n",
       "      <th>Engine_Failure_Type</th>\n",
       "      <th>Flight_Phase</th>\n",
       "      <th>Terrain_Type</th>\n",
       "      <th>Crash_Severity</th>\n",
       "      <th>External_Factor</th>\n",
       "      <th>Crash_Cause</th>\n",
       "    </tr>\n",
       "  </thead>\n",
       "  <tbody>\n",
       "    <tr>\n",
       "      <th>0</th>\n",
       "      <td>FL5447</td>\n",
       "      <td>29-06-2023</td>\n",
       "      <td>02:35:26</td>\n",
       "      <td>Airbus A330</td>\n",
       "      <td>Snow</td>\n",
       "      <td>Bird Strike</td>\n",
       "      <td>Descent</td>\n",
       "      <td>Urban</td>\n",
       "      <td>Non-Fatal</td>\n",
       "      <td>Bird Strike</td>\n",
       "      <td>Weather</td>\n",
       "    </tr>\n",
       "    <tr>\n",
       "      <th>1</th>\n",
       "      <td>FL0032</td>\n",
       "      <td>29-12-2023</td>\n",
       "      <td>12:44:26</td>\n",
       "      <td>Airbus A350</td>\n",
       "      <td>Clear</td>\n",
       "      <td>Fuel System</td>\n",
       "      <td>Cruise</td>\n",
       "      <td>Mountain</td>\n",
       "      <td>Fatal</td>\n",
       "      <td>NaN</td>\n",
       "      <td>Mechanical Failure</td>\n",
       "    </tr>\n",
       "    <tr>\n",
       "      <th>2</th>\n",
       "      <td>FL1920</td>\n",
       "      <td>11-04-2021</td>\n",
       "      <td>10:26:31</td>\n",
       "      <td>Boeing 737-900</td>\n",
       "      <td>Rain</td>\n",
       "      <td>Fuel System</td>\n",
       "      <td>Landing</td>\n",
       "      <td>Mountain</td>\n",
       "      <td>Non-Fatal</td>\n",
       "      <td>Bird Strike</td>\n",
       "      <td>Mechanical Failure</td>\n",
       "    </tr>\n",
       "    <tr>\n",
       "      <th>3</th>\n",
       "      <td>FL6713</td>\n",
       "      <td>20-03-2019</td>\n",
       "      <td>02:16:37</td>\n",
       "      <td>Airbus A321</td>\n",
       "      <td>Clear</td>\n",
       "      <td>Bird Strike</td>\n",
       "      <td>Climb</td>\n",
       "      <td>Runway</td>\n",
       "      <td>Fatal</td>\n",
       "      <td>NaN</td>\n",
       "      <td>External</td>\n",
       "    </tr>\n",
       "    <tr>\n",
       "      <th>4</th>\n",
       "      <td>FL8130</td>\n",
       "      <td>29-09-2022</td>\n",
       "      <td>17:29:42</td>\n",
       "      <td>Boeing 737-700</td>\n",
       "      <td>Rain</td>\n",
       "      <td>Compressor Stall</td>\n",
       "      <td>Takeoff</td>\n",
       "      <td>Rural</td>\n",
       "      <td>Non-Fatal</td>\n",
       "      <td>Bird Strike</td>\n",
       "      <td>ATC</td>\n",
       "    </tr>\n",
       "  </tbody>\n",
       "</table>\n",
       "</div>"
      ],
      "text/plain": [
       "  Flight_ID        Date      Time   Aircraft_Type Weather_Condition  \\\n",
       "0    FL5447  29-06-2023  02:35:26     Airbus A330              Snow   \n",
       "1    FL0032  29-12-2023  12:44:26     Airbus A350             Clear   \n",
       "2    FL1920  11-04-2021  10:26:31  Boeing 737-900              Rain   \n",
       "3    FL6713  20-03-2019  02:16:37     Airbus A321             Clear   \n",
       "4    FL8130  29-09-2022  17:29:42  Boeing 737-700              Rain   \n",
       "\n",
       "  Engine_Failure_Type Flight_Phase Terrain_Type Crash_Severity  \\\n",
       "0         Bird Strike      Descent        Urban      Non-Fatal   \n",
       "1         Fuel System       Cruise     Mountain          Fatal   \n",
       "2         Fuel System      Landing     Mountain      Non-Fatal   \n",
       "3         Bird Strike        Climb       Runway          Fatal   \n",
       "4    Compressor Stall      Takeoff        Rural      Non-Fatal   \n",
       "\n",
       "  External_Factor         Crash_Cause  \n",
       "0     Bird Strike             Weather  \n",
       "1             NaN  Mechanical Failure  \n",
       "2     Bird Strike  Mechanical Failure  \n",
       "3             NaN            External  \n",
       "4     Bird Strike                 ATC  "
      ]
     },
     "execution_count": 55,
     "metadata": {},
     "output_type": "execute_result"
    }
   ],
   "source": [
    "# seperate the categorical variable from main dataframe\n",
    "df_cat = df_FlightIncident_1000.select_dtypes(include = 'object')\n",
    "\n",
    "# Check the categorical data \n",
    "df_cat.head()"
   ]
  },
  {
   "cell_type": "markdown",
   "id": "4ca30366-a2f7-47d2-9af9-61b7d684ddb2",
   "metadata": {},
   "source": [
    "#### Univariate Analysis on Numerical Data"
   ]
  },
  {
   "cell_type": "code",
   "execution_count": 59,
   "id": "f5a80008-e22e-4417-ae08-70805665f7db",
   "metadata": {},
   "outputs": [
    {
     "data": {
      "text/plain": [
       "Index(['Aircraft_Age', 'Flight_Hours', 'Crew_Experience', 'Altitude',\n",
       "       'Airspeed', 'Visibility', 'Wind_Speed', 'Temperature',\n",
       "       'Maintenance_History', 'Casualties', 'Survivors',\n",
       "       'Flight_Data_Anomaly_Score', 'Crash_Risk_Score'],\n",
       "      dtype='object')"
      ]
     },
     "execution_count": 59,
     "metadata": {},
     "output_type": "execute_result"
    }
   ],
   "source": [
    "# Check the columns \n",
    "df_num.columns"
   ]
  },
  {
   "cell_type": "markdown",
   "id": "382e2703-57bc-4870-b7f3-62b860499ba5",
   "metadata": {},
   "source": [
    "##### Aircraft_Age"
   ]
  },
  {
   "cell_type": "code",
   "execution_count": 66,
   "id": "b07a1e4d-a901-4130-80c8-da58b1048383",
   "metadata": {},
   "outputs": [
    {
     "data": {
      "text/plain": [
       "0.5"
      ]
     },
     "execution_count": 66,
     "metadata": {},
     "output_type": "execute_result"
    }
   ],
   "source": [
    "# Find the minimum\n",
    "df_num.Aircraft_Age.min()"
   ]
  },
  {
   "cell_type": "code",
   "execution_count": 64,
   "id": "9f4e111e-5652-4d8a-af2d-52c722cf5657",
   "metadata": {},
   "outputs": [
    {
     "data": {
      "text/plain": [
       "25.0"
      ]
     },
     "execution_count": 64,
     "metadata": {},
     "output_type": "execute_result"
    }
   ],
   "source": [
    "# Find the maximum\n",
    "df_num.Aircraft_Age.max()"
   ]
  },
  {
   "cell_type": "code",
   "execution_count": 70,
   "id": "17a09e22-ae7f-4867-a8ad-77e0d1a603a4",
   "metadata": {},
   "outputs": [
    {
     "data": {
      "text/plain": [
       "12.7235"
      ]
     },
     "execution_count": 70,
     "metadata": {},
     "output_type": "execute_result"
    }
   ],
   "source": [
    "# Find the avg\n",
    "df_num.Aircraft_Age.mean()"
   ]
  },
  {
   "cell_type": "code",
   "execution_count": 72,
   "id": "3ca96aba-7055-45fc-b1cc-3e9bbbd50af9",
   "metadata": {},
   "outputs": [
    {
     "data": {
      "image/png": "[encoded data removed]",
      "text/plain": [
       "<Figure size 640x480 with 1 Axes>"
      ]
     },
     "metadata": {},
     "output_type": "display_data"
    }
   ],
   "source": [
    "# Check the visualization\n",
    "df_num.Aircraft_Age.plot(kind = 'kde', color = 'orange')\n",
    "plt.title('Distribution of Aircraft_Age')\n",
    "plt.grid()"
   ]
  },
  {
   "cell_type": "markdown",
   "id": "bd903bb0-4df1-4d92-a76c-ae8d2abe8acf",
   "metadata": {},
   "source": [
    "**Interpretation**\n",
    "- The minimum Aircraft_Age is -0.5\n",
    "- The maximum Aircraft_Age is 25.0\n",
    "- The average (mean) Aircraft_Age is 12.72"
   ]
  },
  {
   "cell_type": "code",
   "execution_count": 77,
   "id": "f226e8c3-3272-4bc7-9474-cd1a72f2925f",
   "metadata": {},
   "outputs": [
    {
     "data": {
      "text/plain": [
       "Index(['Aircraft_Age', 'Flight_Hours', 'Crew_Experience', 'Altitude',\n",
       "       'Airspeed', 'Visibility', 'Wind_Speed', 'Temperature',\n",
       "       'Maintenance_History', 'Casualties', 'Survivors',\n",
       "       'Flight_Data_Anomaly_Score', 'Crash_Risk_Score'],\n",
       "      dtype='object')"
      ]
     },
     "execution_count": 77,
     "metadata": {},
     "output_type": "execute_result"
    }
   ],
   "source": [
    "# Check the columns\n",
    "df_num.columns"
   ]
  },
  {
   "cell_type": "markdown",
   "id": "9952e3b8-177f-4567-8db6-eb42f054f5db",
   "metadata": {},
   "source": [
    "#### Flight_Hours"
   ]
  },
  {
   "cell_type": "code",
   "execution_count": 82,
   "id": "26c34dda-5734-4ed1-91e3-6e94f8f2434e",
   "metadata": {},
   "outputs": [
    {
     "data": {
      "text/plain": [
       "5002"
      ]
     },
     "execution_count": 82,
     "metadata": {},
     "output_type": "execute_result"
    }
   ],
   "source": [
    "# Find the minimum\n",
    "df_num.Flight_Hours.min()"
   ]
  },
  {
   "cell_type": "code",
   "execution_count": 84,
   "id": "62963bde-e36b-4afa-9a1b-e6d514bba6f1",
   "metadata": {},
   "outputs": [
    {
     "data": {
      "text/plain": [
       "69994"
      ]
     },
     "execution_count": 84,
     "metadata": {},
     "output_type": "execute_result"
    }
   ],
   "source": [
    "# find the maximum\n",
    "df_num.Flight_Hours.max()"
   ]
  },
  {
   "cell_type": "code",
   "execution_count": 86,
   "id": "fd0f6bfb-d9d6-4693-8672-bb6f07d9d920",
   "metadata": {},
   "outputs": [
    {
     "data": {
      "text/plain": [
       "36917.325"
      ]
     },
     "execution_count": 86,
     "metadata": {},
     "output_type": "execute_result"
    }
   ],
   "source": [
    "# find the average\n",
    "df_num.Flight_Hours.mean()"
   ]
  },
  {
   "cell_type": "markdown",
   "id": "d6682418-12c9-4fb8-b12c-e43d1ee31527",
   "metadata": {},
   "source": [
    "**Interpretation**\n",
    "\n",
    "- The minimum Flight_Hours is 5,002\n",
    "\n",
    "- The maximum Flight_Hours is 69,994\n",
    "\n",
    "- The average (mean) Flight_Hours is 36,917.33"
   ]
  },
  {
   "cell_type": "code",
   "execution_count": 89,
   "id": "d6408a1e-08fd-44db-834e-4a3f7383d695",
   "metadata": {},
   "outputs": [
    {
     "data": {
      "text/plain": [
       "1000"
      ]
     },
     "execution_count": 89,
     "metadata": {},
     "output_type": "execute_result"
    }
   ],
   "source": [
    "# Find the minimum\n",
    "df_num.Crew_Experience.min()"
   ]
  },
  {
   "cell_type": "code",
   "execution_count": 91,
   "id": "ff243cd7-e57a-4087-a6f1-3a6e8cb766dc",
   "metadata": {},
   "outputs": [
    {
     "data": {
      "text/plain": [
       "19966"
      ]
     },
     "execution_count": 91,
     "metadata": {},
     "output_type": "execute_result"
    }
   ],
   "source": [
    "# Find the maximum\n",
    "df_num.Crew_Experience.max()"
   ]
  },
  {
   "cell_type": "code",
   "execution_count": 93,
   "id": "2a4b5a8c-4094-4d89-afaa-c894de6740a9",
   "metadata": {},
   "outputs": [
    {
     "data": {
      "text/plain": [
       "10647.318"
      ]
     },
     "execution_count": 93,
     "metadata": {},
     "output_type": "execute_result"
    }
   ],
   "source": [
    "# find the average\n",
    "df_num.Crew_Experience.mean()"
   ]
  },
  {
   "cell_type": "markdown",
   "id": "8f428037-43fd-4f30-9a84-86375d1e163e",
   "metadata": {},
   "source": [
    "**Interpretation**\n",
    "- The minimum Crew_Experience is 1000\n",
    "- The maximum Crew_Experience is 19966\n",
    "- The average (mean) Crew_Experience is 10647.318"
   ]
  },
  {
   "cell_type": "code",
   "execution_count": 99,
   "id": "de2c7518-600a-4ae8-baf9-ed613a3cc8e3",
   "metadata": {},
   "outputs": [
    {
     "data": {
      "text/plain": [
       "24"
      ]
     },
     "execution_count": 99,
     "metadata": {},
     "output_type": "execute_result"
    }
   ],
   "source": [
    "# find the minimum\n",
    "df_num.Altitude.min()"
   ]
  },
  {
   "cell_type": "code",
   "execution_count": 101,
   "id": "8ef633e4-1319-4c17-a721-8af35baeb73c",
   "metadata": {},
   "outputs": [
    {
     "data": {
      "text/plain": [
       "41937"
      ]
     },
     "execution_count": 101,
     "metadata": {},
     "output_type": "execute_result"
    }
   ],
   "source": [
    "# Find the maximum\n",
    "df_num.Altitude.max()"
   ]
  },
  {
   "cell_type": "code",
   "execution_count": 103,
   "id": "3aa02576-c8a6-416a-889e-a1541e706603",
   "metadata": {},
   "outputs": [
    {
     "data": {
      "text/plain": [
       "20989.679"
      ]
     },
     "execution_count": 103,
     "metadata": {},
     "output_type": "execute_result"
    }
   ],
   "source": [
    "# find the average\n",
    "df_num.Altitude.mean()"
   ]
  },
  {
   "cell_type": "markdown",
   "id": "381d02aa-1f68-4de8-9912-d241e28c1faa",
   "metadata": {},
   "source": [
    "**Interpretation**\n",
    "- The minimum Altitudee is 24\n",
    "- The maximum Altitude is 41937\n",
    "- The average (mean) Altitude is 20989.679"
   ]
  },
  {
   "cell_type": "code",
   "execution_count": 108,
   "id": "52574959-f7ce-4ebc-a1ac-f2876422e640",
   "metadata": {},
   "outputs": [
    {
     "data": {
      "image/png": "[encoded data removed]",
      "text/plain": [
       "<Figure size 640x480 with 1 Axes>"
      ]
     },
     "metadata": {},
     "output_type": "display_data"
    }
   ],
   "source": [
    "# Check the visualization\n",
    "df_num.Flight_Hours.plot(kind = 'kde', color = 'orange')\n",
    "plt.title('Distribution of Flight_Hours')\n",
    "plt.grid()"
   ]
  },
  {
   "cell_type": "code",
   "execution_count": 110,
   "id": "b0e68b41-cc97-435e-9aeb-2aeb0f8b0b42",
   "metadata": {},
   "outputs": [
    {
     "data": {
      "text/plain": [
       "Index(['Aircraft_Age', 'Flight_Hours', 'Crew_Experience', 'Altitude',\n",
       "       'Airspeed', 'Visibility', 'Wind_Speed', 'Temperature',\n",
       "       'Maintenance_History', 'Casualties', 'Survivors',\n",
       "       'Flight_Data_Anomaly_Score', 'Crash_Risk_Score'],\n",
       "      dtype='object')"
      ]
     },
     "execution_count": 110,
     "metadata": {},
     "output_type": "execute_result"
    }
   ],
   "source": [
    "# Check the columns\n",
    "df_num.columns"
   ]
  },
  {
   "cell_type": "markdown",
   "id": "d6cf81b3-becd-4ef9-ade6-afbc7f705838",
   "metadata": {},
   "source": [
    "#### Crew_Experience"
   ]
  },
  {
   "cell_type": "code",
   "execution_count": 113,
   "id": "543468d8-1d3b-4341-9747-b4f2223c2d30",
   "metadata": {},
   "outputs": [
    {
     "data": {
      "text/plain": [
       "1000"
      ]
     },
     "execution_count": 113,
     "metadata": {},
     "output_type": "execute_result"
    }
   ],
   "source": [
    "# find the minimum\n",
    "df_num.Crew_Experience.min()"
   ]
  },
  {
   "cell_type": "code",
   "execution_count": 115,
   "id": "618df38c-df30-4f8f-8372-72155ddcc0ba",
   "metadata": {},
   "outputs": [
    {
     "data": {
      "text/plain": [
       "19966"
      ]
     },
     "execution_count": 115,
     "metadata": {},
     "output_type": "execute_result"
    }
   ],
   "source": [
    "# Find the maximum\n",
    "df_num.Crew_Experience.max()"
   ]
  },
  {
   "cell_type": "code",
   "execution_count": 119,
   "id": "08f273b4-b275-46dc-b014-bbcec244c1ce",
   "metadata": {},
   "outputs": [
    {
     "data": {
      "text/plain": [
       "10647.318"
      ]
     },
     "execution_count": 119,
     "metadata": {},
     "output_type": "execute_result"
    }
   ],
   "source": [
    "# Find the average\n",
    "df_num.Crew_Experience.mean()"
   ]
  },
  {
   "cell_type": "markdown",
   "id": "75cc9a38-088d-4020-9ab0-6ddf32e1814c",
   "metadata": {},
   "source": [
    "**Interpretation**\n",
    "- The minimum Altitudee is 100\n",
    "- The maximum Altitude is 19966\n",
    "- The average (mean) Altitude is 10647.318"
   ]
  },
  {
   "cell_type": "code",
   "execution_count": 122,
   "id": "9d45cda1-aeb5-4390-ac21-5dcdee1fcbbd",
   "metadata": {},
   "outputs": [
    {
     "data": {
      "image/png": "[encoded data removed]",
      "text/plain": [
       "<Figure size 640x480 with 1 Axes>"
      ]
     },
     "metadata": {},
     "output_type": "display_data"
    }
   ],
   "source": [
    "# Check the visualization\n",
    "df_num.Crew_Experience.plot(kind = 'kde', color = 'orange')\n",
    "plt.title('Distribution of Crew_Experience')\n",
    "plt.grid()"
   ]
  },
  {
   "cell_type": "code",
   "execution_count": 124,
   "id": "487019c8-4961-4d12-bf26-a6fce0b666ef",
   "metadata": {},
   "outputs": [
    {
     "data": {
      "image/png": "[encoded data removed]",
      "text/plain": [
       "<Figure size 640x480 with 1 Axes>"
      ]
     },
     "metadata": {},
     "output_type": "display_data"
    }
   ],
   "source": [
    "import matplotlib.pyplot as plt\n",
    "\n",
    "# KDE plot for Market_Cap\n",
    "df_num['Aircraft_Age'].plot(kind='kde', color='orange')\n",
    "\n",
    "# Add title and grid\n",
    "plt.title('Distribution of Aircraft_Age')\n",
    "plt.xlabel('Aircraft_Age')\n",
    "plt.ylabel('Flight_Hours')\n",
    "plt.grid(True)\n",
    "\n",
    "# Show the plot\n",
    "plt.show()"
   ]
  },
  {
   "cell_type": "markdown",
   "id": "c7878bf7-e81e-4494-ad9a-1461f38f1722",
   "metadata": {},
   "source": [
    "**Interpretation**\n",
    "- The minimum Altitudee is 100\n",
    "- The maximum Altitude is 19966\n",
    "- The average (mean) Altitude is 10647.318"
   ]
  },
  {
   "cell_type": "markdown",
   "id": "98162752-0d9e-4f55-9207-17b4d53e9ca1",
   "metadata": {},
   "source": [
    "#### univrtant anysis on categrical varibale"
   ]
  },
  {
   "cell_type": "code",
   "execution_count": 130,
   "id": "6291717a-0b97-4fef-8793-8623395dd650",
   "metadata": {},
   "outputs": [
    {
     "data": {
      "text/plain": [
       "Index(['Flight_ID', 'Date', 'Time', 'Aircraft_Type', 'Weather_Condition',\n",
       "       'Engine_Failure_Type', 'Flight_Phase', 'Terrain_Type', 'Crash_Severity',\n",
       "       'External_Factor', 'Crash_Cause'],\n",
       "      dtype='object')"
      ]
     },
     "execution_count": 130,
     "metadata": {},
     "output_type": "execute_result"
    }
   ],
   "source": [
    "# check the column name \n",
    "df_cat.columns"
   ]
  },
  {
   "cell_type": "code",
   "execution_count": 132,
   "id": "1c7fbbc1-849a-47a6-9662-53bfe83e8c10",
   "metadata": {},
   "outputs": [
    {
     "data": {
      "text/plain": [
       "1000"
      ]
     },
     "execution_count": 132,
     "metadata": {},
     "output_type": "execute_result"
    }
   ],
   "source": [
    "##### Flight_ID\n",
    "df_cat.Flight_ID.count()"
   ]
  },
  {
   "cell_type": "code",
   "execution_count": 134,
   "id": "e2a1b10e-bdde-43db-8d16-2234fb3d9245",
   "metadata": {},
   "outputs": [
    {
     "data": {
      "text/plain": [
       "Flight_ID\n",
       "FL2690    3\n",
       "FL2292    2\n",
       "FL0880    2\n",
       "FL8252    2\n",
       "FL4746    2\n",
       "         ..\n",
       "FL7257    1\n",
       "FL3762    1\n",
       "FL6525    1\n",
       "FL6765    1\n",
       "FL9403    1\n",
       "Name: count, Length: 945, dtype: int64"
      ]
     },
     "execution_count": 134,
     "metadata": {},
     "output_type": "execute_result"
    }
   ],
   "source": [
    "#check the count each categricry present in columns\n",
    "df_cat.Flight_ID.value_counts()"
   ]
  },
  {
   "cell_type": "code",
   "execution_count": 138,
   "id": "40716dc2-cf2c-494a-93fb-1c9cf223ac2f",
   "metadata": {},
   "outputs": [
    {
     "data": {
      "image/png": "[encoded data removed]",
      "text/plain": [
       "<Figure size 640x480 with 1 Axes>"
      ]
     },
     "metadata": {},
     "output_type": "display_data"
    }
   ],
   "source": [
    "# Create a visualisation \n",
    "df_cat.Aircraft_Type.value_counts().plot(kind = 'bar',color = 'blue')\n",
    "plt.title('Aircraft_Type')\n",
    "plt.grid()"
   ]
  },
  {
   "cell_type": "markdown",
   "id": "f095e2b5-2d3a-47ba-9e29-737c3e8c343a",
   "metadata": {},
   "source": [
    "**Interpretation**\n",
    "- the data balance "
   ]
  },
  {
   "cell_type": "markdown",
   "id": "a736f19d-f733-41ae-bc0c-a4072e94c7c4",
   "metadata": {},
   "source": [
    "### Bia virent anysis "
   ]
  },
  {
   "cell_type": "code",
   "execution_count": 142,
   "id": "9ba89900-7ea3-4ac6-93f1-7611630574c2",
   "metadata": {},
   "outputs": [
    {
     "data": {
      "text/html": [
       "<div>\n",
       "<style scoped>\n",
       "    .dataframe tbody tr th:only-of-type {\n",
       "        vertical-align: middle;\n",
       "    }\n",
       "\n",
       "    .dataframe tbody tr th {\n",
       "        vertical-align: top;\n",
       "    }\n",
       "\n",
       "    .dataframe thead th {\n",
       "        text-align: right;\n",
       "    }\n",
       "</style>\n",
       "<table border=\"1\" class=\"dataframe\">\n",
       "  <thead>\n",
       "    <tr style=\"text-align: right;\">\n",
       "      <th></th>\n",
       "      <th>Aircraft_Age</th>\n",
       "      <th>Flight_Hours</th>\n",
       "      <th>Crew_Experience</th>\n",
       "      <th>Altitude</th>\n",
       "      <th>Airspeed</th>\n",
       "      <th>Visibility</th>\n",
       "      <th>Wind_Speed</th>\n",
       "      <th>Temperature</th>\n",
       "      <th>Maintenance_History</th>\n",
       "      <th>Casualties</th>\n",
       "      <th>Survivors</th>\n",
       "      <th>Flight_Data_Anomaly_Score</th>\n",
       "      <th>Crash_Risk_Score</th>\n",
       "    </tr>\n",
       "  </thead>\n",
       "  <tbody>\n",
       "    <tr>\n",
       "      <th>Aircraft_Age</th>\n",
       "      <td>1.000000</td>\n",
       "      <td>0.015525</td>\n",
       "      <td>-0.005293</td>\n",
       "      <td>-0.013798</td>\n",
       "      <td>0.057178</td>\n",
       "      <td>-0.013332</td>\n",
       "      <td>0.030139</td>\n",
       "      <td>-0.080143</td>\n",
       "      <td>0.019509</td>\n",
       "      <td>0.032626</td>\n",
       "      <td>-0.015006</td>\n",
       "      <td>-0.047802</td>\n",
       "      <td>-0.064442</td>\n",
       "    </tr>\n",
       "    <tr>\n",
       "      <th>Flight_Hours</th>\n",
       "      <td>0.015525</td>\n",
       "      <td>1.000000</td>\n",
       "      <td>-0.027922</td>\n",
       "      <td>0.004165</td>\n",
       "      <td>0.041916</td>\n",
       "      <td>-0.007978</td>\n",
       "      <td>-0.052387</td>\n",
       "      <td>-0.005940</td>\n",
       "      <td>0.000652</td>\n",
       "      <td>-0.021642</td>\n",
       "      <td>0.043201</td>\n",
       "      <td>0.019034</td>\n",
       "      <td>-0.013573</td>\n",
       "    </tr>\n",
       "    <tr>\n",
       "      <th>Crew_Experience</th>\n",
       "      <td>-0.005293</td>\n",
       "      <td>-0.027922</td>\n",
       "      <td>1.000000</td>\n",
       "      <td>0.009024</td>\n",
       "      <td>-0.024348</td>\n",
       "      <td>-0.007659</td>\n",
       "      <td>0.033817</td>\n",
       "      <td>-0.028876</td>\n",
       "      <td>-0.027324</td>\n",
       "      <td>0.026483</td>\n",
       "      <td>-0.054123</td>\n",
       "      <td>-0.023156</td>\n",
       "      <td>-0.009943</td>\n",
       "    </tr>\n",
       "    <tr>\n",
       "      <th>Altitude</th>\n",
       "      <td>-0.013798</td>\n",
       "      <td>0.004165</td>\n",
       "      <td>0.009024</td>\n",
       "      <td>1.000000</td>\n",
       "      <td>-0.003369</td>\n",
       "      <td>-0.011831</td>\n",
       "      <td>0.075734</td>\n",
       "      <td>0.034106</td>\n",
       "      <td>-0.028150</td>\n",
       "      <td>-0.030480</td>\n",
       "      <td>0.003936</td>\n",
       "      <td>-0.003506</td>\n",
       "      <td>-0.005586</td>\n",
       "    </tr>\n",
       "    <tr>\n",
       "      <th>Airspeed</th>\n",
       "      <td>0.057178</td>\n",
       "      <td>0.041916</td>\n",
       "      <td>-0.024348</td>\n",
       "      <td>-0.003369</td>\n",
       "      <td>1.000000</td>\n",
       "      <td>-0.034857</td>\n",
       "      <td>-0.000554</td>\n",
       "      <td>-0.009780</td>\n",
       "      <td>-0.016353</td>\n",
       "      <td>-0.054382</td>\n",
       "      <td>0.038861</td>\n",
       "      <td>-0.032432</td>\n",
       "      <td>-0.013431</td>\n",
       "    </tr>\n",
       "    <tr>\n",
       "      <th>Visibility</th>\n",
       "      <td>-0.013332</td>\n",
       "      <td>-0.007978</td>\n",
       "      <td>-0.007659</td>\n",
       "      <td>-0.011831</td>\n",
       "      <td>-0.034857</td>\n",
       "      <td>1.000000</td>\n",
       "      <td>-0.009192</td>\n",
       "      <td>0.023478</td>\n",
       "      <td>-0.016873</td>\n",
       "      <td>0.027094</td>\n",
       "      <td>0.009025</td>\n",
       "      <td>-0.019371</td>\n",
       "      <td>0.013629</td>\n",
       "    </tr>\n",
       "    <tr>\n",
       "      <th>Wind_Speed</th>\n",
       "      <td>0.030139</td>\n",
       "      <td>-0.052387</td>\n",
       "      <td>0.033817</td>\n",
       "      <td>0.075734</td>\n",
       "      <td>-0.000554</td>\n",
       "      <td>-0.009192</td>\n",
       "      <td>1.000000</td>\n",
       "      <td>0.011976</td>\n",
       "      <td>-0.002836</td>\n",
       "      <td>0.024529</td>\n",
       "      <td>-0.074926</td>\n",
       "      <td>-0.025025</td>\n",
       "      <td>-0.021874</td>\n",
       "    </tr>\n",
       "    <tr>\n",
       "      <th>Temperature</th>\n",
       "      <td>-0.080143</td>\n",
       "      <td>-0.005940</td>\n",
       "      <td>-0.028876</td>\n",
       "      <td>0.034106</td>\n",
       "      <td>-0.009780</td>\n",
       "      <td>0.023478</td>\n",
       "      <td>0.011976</td>\n",
       "      <td>1.000000</td>\n",
       "      <td>-0.054560</td>\n",
       "      <td>-0.000214</td>\n",
       "      <td>0.012055</td>\n",
       "      <td>0.027122</td>\n",
       "      <td>0.007153</td>\n",
       "    </tr>\n",
       "    <tr>\n",
       "      <th>Maintenance_History</th>\n",
       "      <td>0.019509</td>\n",
       "      <td>0.000652</td>\n",
       "      <td>-0.027324</td>\n",
       "      <td>-0.028150</td>\n",
       "      <td>-0.016353</td>\n",
       "      <td>-0.016873</td>\n",
       "      <td>-0.002836</td>\n",
       "      <td>-0.054560</td>\n",
       "      <td>1.000000</td>\n",
       "      <td>-0.004672</td>\n",
       "      <td>0.040508</td>\n",
       "      <td>0.022388</td>\n",
       "      <td>0.019757</td>\n",
       "    </tr>\n",
       "    <tr>\n",
       "      <th>Casualties</th>\n",
       "      <td>0.032626</td>\n",
       "      <td>-0.021642</td>\n",
       "      <td>0.026483</td>\n",
       "      <td>-0.030480</td>\n",
       "      <td>-0.054382</td>\n",
       "      <td>0.027094</td>\n",
       "      <td>0.024529</td>\n",
       "      <td>-0.000214</td>\n",
       "      <td>-0.004672</td>\n",
       "      <td>1.000000</td>\n",
       "      <td>-0.457401</td>\n",
       "      <td>0.018693</td>\n",
       "      <td>0.008380</td>\n",
       "    </tr>\n",
       "    <tr>\n",
       "      <th>Survivors</th>\n",
       "      <td>-0.015006</td>\n",
       "      <td>0.043201</td>\n",
       "      <td>-0.054123</td>\n",
       "      <td>0.003936</td>\n",
       "      <td>0.038861</td>\n",
       "      <td>0.009025</td>\n",
       "      <td>-0.074926</td>\n",
       "      <td>0.012055</td>\n",
       "      <td>0.040508</td>\n",
       "      <td>-0.457401</td>\n",
       "      <td>1.000000</td>\n",
       "      <td>-0.069650</td>\n",
       "      <td>-0.035342</td>\n",
       "    </tr>\n",
       "    <tr>\n",
       "      <th>Flight_Data_Anomaly_Score</th>\n",
       "      <td>-0.047802</td>\n",
       "      <td>0.019034</td>\n",
       "      <td>-0.023156</td>\n",
       "      <td>-0.003506</td>\n",
       "      <td>-0.032432</td>\n",
       "      <td>-0.019371</td>\n",
       "      <td>-0.025025</td>\n",
       "      <td>0.027122</td>\n",
       "      <td>0.022388</td>\n",
       "      <td>0.018693</td>\n",
       "      <td>-0.069650</td>\n",
       "      <td>1.000000</td>\n",
       "      <td>0.063651</td>\n",
       "    </tr>\n",
       "    <tr>\n",
       "      <th>Crash_Risk_Score</th>\n",
       "      <td>-0.064442</td>\n",
       "      <td>-0.013573</td>\n",
       "      <td>-0.009943</td>\n",
       "      <td>-0.005586</td>\n",
       "      <td>-0.013431</td>\n",
       "      <td>0.013629</td>\n",
       "      <td>-0.021874</td>\n",
       "      <td>0.007153</td>\n",
       "      <td>0.019757</td>\n",
       "      <td>0.008380</td>\n",
       "      <td>-0.035342</td>\n",
       "      <td>0.063651</td>\n",
       "      <td>1.000000</td>\n",
       "    </tr>\n",
       "  </tbody>\n",
       "</table>\n",
       "</div>"
      ],
      "text/plain": [
       "                           Aircraft_Age  Flight_Hours  Crew_Experience  \\\n",
       "Aircraft_Age                   1.000000      0.015525        -0.005293   \n",
       "Flight_Hours                   0.015525      1.000000        -0.027922   \n",
       "Crew_Experience               -0.005293     -0.027922         1.000000   \n",
       "Altitude                      -0.013798      0.004165         0.009024   \n",
       "Airspeed                       0.057178      0.041916        -0.024348   \n",
       "Visibility                    -0.013332     -0.007978        -0.007659   \n",
       "Wind_Speed                     0.030139     -0.052387         0.033817   \n",
       "Temperature                   -0.080143     -0.005940        -0.028876   \n",
       "Maintenance_History            0.019509      0.000652        -0.027324   \n",
       "Casualties                     0.032626     -0.021642         0.026483   \n",
       "Survivors                     -0.015006      0.043201        -0.054123   \n",
       "Flight_Data_Anomaly_Score     -0.047802      0.019034        -0.023156   \n",
       "Crash_Risk_Score              -0.064442     -0.013573        -0.009943   \n",
       "\n",
       "                           Altitude  Airspeed  Visibility  Wind_Speed  \\\n",
       "Aircraft_Age              -0.013798  0.057178   -0.013332    0.030139   \n",
       "Flight_Hours               0.004165  0.041916   -0.007978   -0.052387   \n",
       "Crew_Experience            0.009024 -0.024348   -0.007659    0.033817   \n",
       "Altitude                   1.000000 -0.003369   -0.011831    0.075734   \n",
       "Airspeed                  -0.003369  1.000000   -0.034857   -0.000554   \n",
       "Visibility                -0.011831 -0.034857    1.000000   -0.009192   \n",
       "Wind_Speed                 0.075734 -0.000554   -0.009192    1.000000   \n",
       "Temperature                0.034106 -0.009780    0.023478    0.011976   \n",
       "Maintenance_History       -0.028150 -0.016353   -0.016873   -0.002836   \n",
       "Casualties                -0.030480 -0.054382    0.027094    0.024529   \n",
       "Survivors                  0.003936  0.038861    0.009025   -0.074926   \n",
       "Flight_Data_Anomaly_Score -0.003506 -0.032432   -0.019371   -0.025025   \n",
       "Crash_Risk_Score          -0.005586 -0.013431    0.013629   -0.021874   \n",
       "\n",
       "                           Temperature  Maintenance_History  Casualties  \\\n",
       "Aircraft_Age                 -0.080143             0.019509    0.032626   \n",
       "Flight_Hours                 -0.005940             0.000652   -0.021642   \n",
       "Crew_Experience              -0.028876            -0.027324    0.026483   \n",
       "Altitude                      0.034106            -0.028150   -0.030480   \n",
       "Airspeed                     -0.009780            -0.016353   -0.054382   \n",
       "Visibility                    0.023478            -0.016873    0.027094   \n",
       "Wind_Speed                    0.011976            -0.002836    0.024529   \n",
       "Temperature                   1.000000            -0.054560   -0.000214   \n",
       "Maintenance_History          -0.054560             1.000000   -0.004672   \n",
       "Casualties                   -0.000214            -0.004672    1.000000   \n",
       "Survivors                     0.012055             0.040508   -0.457401   \n",
       "Flight_Data_Anomaly_Score     0.027122             0.022388    0.018693   \n",
       "Crash_Risk_Score              0.007153             0.019757    0.008380   \n",
       "\n",
       "                           Survivors  Flight_Data_Anomaly_Score  \\\n",
       "Aircraft_Age               -0.015006                  -0.047802   \n",
       "Flight_Hours                0.043201                   0.019034   \n",
       "Crew_Experience            -0.054123                  -0.023156   \n",
       "Altitude                    0.003936                  -0.003506   \n",
       "Airspeed                    0.038861                  -0.032432   \n",
       "Visibility                  0.009025                  -0.019371   \n",
       "Wind_Speed                 -0.074926                  -0.025025   \n",
       "Temperature                 0.012055                   0.027122   \n",
       "Maintenance_History         0.040508                   0.022388   \n",
       "Casualties                 -0.457401                   0.018693   \n",
       "Survivors                   1.000000                  -0.069650   \n",
       "Flight_Data_Anomaly_Score  -0.069650                   1.000000   \n",
       "Crash_Risk_Score           -0.035342                   0.063651   \n",
       "\n",
       "                           Crash_Risk_Score  \n",
       "Aircraft_Age                      -0.064442  \n",
       "Flight_Hours                      -0.013573  \n",
       "Crew_Experience                   -0.009943  \n",
       "Altitude                          -0.005586  \n",
       "Airspeed                          -0.013431  \n",
       "Visibility                         0.013629  \n",
       "Wind_Speed                        -0.021874  \n",
       "Temperature                        0.007153  \n",
       "Maintenance_History                0.019757  \n",
       "Casualties                         0.008380  \n",
       "Survivors                         -0.035342  \n",
       "Flight_Data_Anomaly_Score          0.063651  \n",
       "Crash_Risk_Score                   1.000000  "
      ]
     },
     "execution_count": 142,
     "metadata": {},
     "output_type": "execute_result"
    }
   ],
   "source": [
    "# for finding the best pairs we have to canculude crelatel matrix\n",
    "df_num.corr()"
   ]
  },
  {
   "cell_type": "code",
   "execution_count": 144,
   "id": "d5980403-711e-4e34-aaa7-a45ed7790e53",
   "metadata": {},
   "outputs": [
    {
     "data": {
      "text/plain": [
       "<Axes: >"
      ]
     },
     "execution_count": 144,
     "metadata": {},
     "output_type": "execute_result"
    },
    {
     "data": {
      "image/png": "[encoded data removed]",
      "text/plain": [
       "<Figure size 640x480 with 2 Axes>"
      ]
     },
     "metadata": {},
     "output_type": "display_data"
    }
   ],
   "source": [
    "# Visulze the corelation matrix9\n",
    "# Assuming df_num is your DataFrame containing numerical data\n",
    "sns.heatmap(df_num.corr())"
   ]
  },
  {
   "cell_type": "markdown",
   "id": "c78180e0-f5b3-4d85-9c3d-3339927a9282",
   "metadata": {},
   "source": [
    "**Interpretation**\n",
    "- After loking at the data correlation matrix i conculude there no corelation\n",
    "- This is representing good for machine Learning beacuse it avoide the problem of multi corelation\n",
    "\n",
    "- NOTE\n",
    "- Multicolinerti menas when indeipant variable are corelated each other and we dont wont multicorelati while machine Learnig on data"
   ]
  },
  {
   "cell_type": "markdown",
   "id": "f2c0e7f4-f1f3-45ed-9aa4-957f97465755",
   "metadata": {},
   "source": [
    "#### Byvirent  one categeycal and one Nurmercal Data"
   ]
  },
  {
   "cell_type": "code",
   "execution_count": 148,
   "id": "1c1edbe1-3a28-4f13-8ca9-792cb2b0c3f0",
   "metadata": {},
   "outputs": [
    {
     "data": {
      "text/plain": [
       "Index(['Flight_ID', 'Date', 'Time', 'Aircraft_Type', 'Weather_Condition',\n",
       "       'Engine_Failure_Type', 'Flight_Phase', 'Terrain_Type', 'Crash_Severity',\n",
       "       'External_Factor', 'Crash_Cause'],\n",
       "      dtype='object')"
      ]
     },
     "execution_count": 148,
     "metadata": {},
     "output_type": "execute_result"
    }
   ],
   "source": [
    "# check the categery \n",
    "df_cat.columns"
   ]
  },
  {
   "cell_type": "code",
   "execution_count": 150,
   "id": "999f4d76-af92-41e4-9a6b-c425a430df2b",
   "metadata": {},
   "outputs": [
    {
     "data": {
      "text/plain": [
       "Index(['Aircraft_Age', 'Flight_Hours', 'Crew_Experience', 'Altitude',\n",
       "       'Airspeed', 'Visibility', 'Wind_Speed', 'Temperature',\n",
       "       'Maintenance_History', 'Casualties', 'Survivors',\n",
       "       'Flight_Data_Anomaly_Score', 'Crash_Risk_Score'],\n",
       "      dtype='object')"
      ]
     },
     "execution_count": 150,
     "metadata": {},
     "output_type": "execute_result"
    }
   ],
   "source": [
    "df_num.columns"
   ]
  },
  {
   "cell_type": "raw",
   "id": "5239c95a-43da-475e-9a88-5116cf128e40",
   "metadata": {},
   "source": [
    "Aircraft_Type,Aircraft_Age\n",
    "Time,Flight_Hours\n",
    "Altitude,Crew_Experience\n",
    "\n",
    "Aircraft_Type,Flight_Hours\n",
    "Time,Flight_Hours\n",
    "Altitude,Crew_Experience\n",
    "\n",
    "Aircraft_Type,Crew_Experience\n",
    "Time,Crew_Experience\n",
    "Altitude,Crew_Experience\n",
    "\n",
    "Aircraft_Type,Crew_Experience\n",
    "Time,Crew_Experience\n",
    "Altitude,Crew_Experience\n",
    "\n",
    "Aircraft_Type,Airspeed\n",
    "Time,Airspeed\n",
    "Altitude,Airspeed"
   ]
  },
  {
   "cell_type": "code",
   "execution_count": 298,
   "id": "238c3d67-39e4-489c-9fb1-850a3f2311bb",
   "metadata": {},
   "outputs": [
    {
     "data": {
      "image/png": "[encoded data removed]",
      "text/plain": [
       "<Figure size 640x480 with 1 Axes>"
      ]
     },
     "metadata": {},
     "output_type": "display_data"
    }
   ],
   "source": [
    "# create and visulization\n",
    "sns.barplot(x = df_FlightIncident_1000.Flight_ID,\n",
    "            y = df_FlightIncident_1000.Crew_Experience,\n",
    "            data = df_FlightIncident_1000)\n",
    "plt.title(\"Flight_ID Vs Aircraft_Age\")\n",
    "plt.grid()\n",
    "plt.show()"
   ]
  },
  {
   "cell_type": "markdown",
   "id": "c8cc1092-bdbf-4e6c-85c0-874ff46104cb",
   "metadata": {},
   "source": [
    "**Interpretation**\n",
    "- The Data is Blalsed here that mean all inside role are contibuting equal is insider Flight_ID\n"
   ]
  },
  {
   "cell_type": "markdown",
   "id": "7acd20b9-d88d-405d-83ad-6db02d76b854",
   "metadata": {},
   "source": [
    "#### Aircraft_Type,Flight_Hours"
   ]
  },
  {
   "cell_type": "code",
   "execution_count": 176,
   "id": "f024a6c3-bd8d-439f-be83-af9cddc9d15d",
   "metadata": {},
   "outputs": [
    {
     "data": {
      "image/png": "[encoded data removed]",
      "text/plain": [
       "<Figure size 640x480 with 1 Axes>"
      ]
     },
     "metadata": {},
     "output_type": "display_data"
    }
   ],
   "source": [
    "# Correct the DataFrame reference to be consistent\n",
    "sns.barplot(\n",
    "    x = df_FlightIncident_1000.Flight_ID,\n",
    "    y = df_FlightIncident_1000.Flight_Hours\n",
    ")\n",
    "plt.title(\"Aircraft_Type vs Flight_Hours\")\n",
    "plt.xlabel(\"Aircraft_Type\")\n",
    "plt.ylabel(\"Flight_Hours\")\n",
    "plt.grid(True)\n",
    "plt.xticks(rotation=90)  # Optional: rotates x-axis labels if too crowded\n",
    "plt.show()\n"
   ]
  },
  {
   "cell_type": "markdown",
   "id": "0f98b396-3c46-49df-a68d-6ad0cfcd03e3",
   "metadata": {},
   "source": [
    "**Interpretation**\n",
    "- The Data is Blalsed here that mean all inside role are contibuting equal is insider Flight_Hours"
   ]
  },
  {
   "cell_type": "markdown",
   "id": "ba505a26-a6de-4bde-a9c5-ce6bd6a28f75",
   "metadata": {},
   "source": [
    "#### Aircraft_Type,Crew_Experience"
   ]
  },
  {
   "cell_type": "code",
   "execution_count": 183,
   "id": "acc700c9-4532-413b-8127-d688db340ca5",
   "metadata": {},
   "outputs": [
    {
     "data": {
      "image/png": "[encoded data removed]",
      "text/plain": [
       "<Figure size 640x480 with 1 Axes>"
      ]
     },
     "metadata": {},
     "output_type": "display_data"
    }
   ],
   "source": [
    "sns.barplot(x = df_FlightIncident_1000.Aircraft_Type,\n",
    "            y = df_FlightIncident_1000.Crew_Experience,\n",
    "            data = df_FlightIncident_1000,)\n",
    "plt.title(\"Airspeed Vs Flight_Hours\")\n",
    "plt.grid()\n",
    "plt.show()"
   ]
  },
  {
   "cell_type": "markdown",
   "id": "3bd5e44b-71e9-4f46-aa8a-b6681bf75e43",
   "metadata": {},
   "source": [
    "**Interpretation**\n",
    "- The Data is Blalsed here that mean all inside role are contibuting equal is in Aircraft_Type"
   ]
  },
  {
   "cell_type": "markdown",
   "id": "439d1bc7-aa4b-4d5a-b599-5e1f6aefe43e",
   "metadata": {},
   "source": [
    "### Multivarent analysis"
   ]
  },
  {
   "cell_type": "code",
   "execution_count": 190,
   "id": "6ac4f8d6-2670-49f1-ba16-ec9ff0a28133",
   "metadata": {},
   "outputs": [
    {
     "data": {
      "text/plain": [
       "Index(['Flight_ID', 'Date', 'Time', 'Aircraft_Type', 'Weather_Condition',\n",
       "       'Engine_Failure_Type', 'Flight_Phase', 'Terrain_Type', 'Crash_Severity',\n",
       "       'External_Factor', 'Crash_Cause'],\n",
       "      dtype='object')"
      ]
     },
     "execution_count": 190,
     "metadata": {},
     "output_type": "execute_result"
    }
   ],
   "source": [
    "# here also we have to find the pare two categical one numbercal varble \n",
    "# check for cat. ver\n",
    "df_cat.columns"
   ]
  },
  {
   "cell_type": "code",
   "execution_count": 192,
   "id": "a4cbe572-a444-446f-b4ec-6aa81d8ec795",
   "metadata": {},
   "outputs": [
    {
     "data": {
      "text/plain": [
       "Index(['Aircraft_Age', 'Flight_Hours', 'Crew_Experience', 'Altitude',\n",
       "       'Airspeed', 'Visibility', 'Wind_Speed', 'Temperature',\n",
       "       'Maintenance_History', 'Casualties', 'Survivors',\n",
       "       'Flight_Data_Anomaly_Score', 'Crash_Risk_Score'],\n",
       "      dtype='object')"
      ]
     },
     "execution_count": 192,
     "metadata": {},
     "output_type": "execute_result"
    }
   ],
   "source": [
    "# check for num. var.\n",
    "df_num.columns"
   ]
  },
  {
   "cell_type": "code",
   "execution_count": null,
   "id": "daeb72a4-18c7-4906-9c29-21f5f478c8f6",
   "metadata": {},
   "outputs": [],
   "source": [
    "'Flight_ID','Aircraft_Type','Crew_Experience\n",
    "'Aircraft_Type','Altitude','Flight_Phase\n",
    "'Weather_Condition','Airspeed','Casualties\n",
    "\n",
    "'Flight_ID','Aircraft_Type','Crew_Experience\n",
    "'Aircraft_Type','Altitude','Flight_Phase\n",
    "'Weather_Condition','Airspeed','Casualties\n",
    "\n",
    "'Flight_ID','Aircraft_Type','Crew_Experience\n",
    "'Aircraft_Type','Altitude','Flight_Phase\n",
    "'Weather_Condition','Airspeed','Casualties\n",
    "\n",
    "\n",
    "'Flight_ID','Aircraft_Type','Crew_Experience\n",
    "'Aircraft_Type','Altitude','Flight_Phase\n",
    "'Weather_Condition','Airspeed','Casualties\n",
    "\n",
    "'Flight_ID','Aircraft_Type','Crew_Experience\n",
    "'Aircraft_Type','Altitude','Flight_Phase\n",
    "'Weather_Condition','Airspeed','Casualties\n",
    "\n",
    "'Flight_ID','Aircraft_Type','Crew_Experience\n",
    "'Aircraft_Type','Altitude','Flight_Phase\n",
    "'Weather_Condition','Airspeed','Casualties\n",
    "\n",
    "'Flight_ID','Aircraft_Type','Crew_Experience\n",
    "'Aircraft_Type','Altitude','Flight_Phase\n",
    "'Weather_Condition','Airspeed','Casualties\n",
    "\n",
    "'Flight_ID','Aircraft_Type','Crew_Experience\n",
    "'Aircraft_Type','Altitude','Flight_Phase\n",
    "'Weather_Condition','Airspeed','Casualties\n",
    "\n",
    "'Flight_ID','Aircraft_Type','Crew_Experience\n",
    "'Aircraft_Type','Altitude','Flight_Phase\n",
    "'Weather_Condition','Airspeed','Casualties"
   ]
  },
  {
   "cell_type": "markdown",
   "id": "fce78652-fd4c-4e2e-9642-a7d385b8ff5f",
   "metadata": {},
   "source": [
    "#### Flight_ID','Aircraft_Type','Crew_Experience"
   ]
  },
  {
   "cell_type": "code",
   "execution_count": 211,
   "id": "39e5df61-fd99-45cc-ad83-6f8ce2b574c1",
   "metadata": {},
   "outputs": [
    {
     "data": {
      "text/html": [
       "<div>\n",
       "<style scoped>\n",
       "    .dataframe tbody tr th:only-of-type {\n",
       "        vertical-align: middle;\n",
       "    }\n",
       "\n",
       "    .dataframe tbody tr th {\n",
       "        vertical-align: top;\n",
       "    }\n",
       "\n",
       "    .dataframe thead th {\n",
       "        text-align: right;\n",
       "    }\n",
       "</style>\n",
       "<table border=\"1\" class=\"dataframe\">\n",
       "  <thead>\n",
       "    <tr style=\"text-align: right;\">\n",
       "      <th>Crew_Experience</th>\n",
       "      <th>1000</th>\n",
       "      <th>1023</th>\n",
       "      <th>1028</th>\n",
       "      <th>1070</th>\n",
       "      <th>1082</th>\n",
       "      <th>1092</th>\n",
       "      <th>1106</th>\n",
       "      <th>1130</th>\n",
       "      <th>1146</th>\n",
       "      <th>1163</th>\n",
       "      <th>...</th>\n",
       "      <th>19831</th>\n",
       "      <th>19834</th>\n",
       "      <th>19854</th>\n",
       "      <th>19868</th>\n",
       "      <th>19872</th>\n",
       "      <th>19905</th>\n",
       "      <th>19920</th>\n",
       "      <th>19932</th>\n",
       "      <th>19956</th>\n",
       "      <th>19966</th>\n",
       "    </tr>\n",
       "    <tr>\n",
       "      <th>Flight_ID</th>\n",
       "      <th></th>\n",
       "      <th></th>\n",
       "      <th></th>\n",
       "      <th></th>\n",
       "      <th></th>\n",
       "      <th></th>\n",
       "      <th></th>\n",
       "      <th></th>\n",
       "      <th></th>\n",
       "      <th></th>\n",
       "      <th></th>\n",
       "      <th></th>\n",
       "      <th></th>\n",
       "      <th></th>\n",
       "      <th></th>\n",
       "      <th></th>\n",
       "      <th></th>\n",
       "      <th></th>\n",
       "      <th></th>\n",
       "      <th></th>\n",
       "      <th></th>\n",
       "    </tr>\n",
       "  </thead>\n",
       "  <tbody>\n",
       "    <tr>\n",
       "      <th>FL0001</th>\n",
       "      <td>NaN</td>\n",
       "      <td>NaN</td>\n",
       "      <td>NaN</td>\n",
       "      <td>NaN</td>\n",
       "      <td>NaN</td>\n",
       "      <td>NaN</td>\n",
       "      <td>NaN</td>\n",
       "      <td>NaN</td>\n",
       "      <td>NaN</td>\n",
       "      <td>NaN</td>\n",
       "      <td>...</td>\n",
       "      <td>NaN</td>\n",
       "      <td>NaN</td>\n",
       "      <td>NaN</td>\n",
       "      <td>NaN</td>\n",
       "      <td>NaN</td>\n",
       "      <td>NaN</td>\n",
       "      <td>NaN</td>\n",
       "      <td>NaN</td>\n",
       "      <td>NaN</td>\n",
       "      <td>NaN</td>\n",
       "    </tr>\n",
       "    <tr>\n",
       "      <th>FL0028</th>\n",
       "      <td>NaN</td>\n",
       "      <td>NaN</td>\n",
       "      <td>NaN</td>\n",
       "      <td>NaN</td>\n",
       "      <td>NaN</td>\n",
       "      <td>NaN</td>\n",
       "      <td>NaN</td>\n",
       "      <td>NaN</td>\n",
       "      <td>NaN</td>\n",
       "      <td>NaN</td>\n",
       "      <td>...</td>\n",
       "      <td>NaN</td>\n",
       "      <td>NaN</td>\n",
       "      <td>NaN</td>\n",
       "      <td>NaN</td>\n",
       "      <td>NaN</td>\n",
       "      <td>NaN</td>\n",
       "      <td>NaN</td>\n",
       "      <td>NaN</td>\n",
       "      <td>NaN</td>\n",
       "      <td>NaN</td>\n",
       "    </tr>\n",
       "    <tr>\n",
       "      <th>FL0031</th>\n",
       "      <td>NaN</td>\n",
       "      <td>NaN</td>\n",
       "      <td>NaN</td>\n",
       "      <td>NaN</td>\n",
       "      <td>NaN</td>\n",
       "      <td>NaN</td>\n",
       "      <td>NaN</td>\n",
       "      <td>NaN</td>\n",
       "      <td>NaN</td>\n",
       "      <td>NaN</td>\n",
       "      <td>...</td>\n",
       "      <td>NaN</td>\n",
       "      <td>NaN</td>\n",
       "      <td>NaN</td>\n",
       "      <td>NaN</td>\n",
       "      <td>NaN</td>\n",
       "      <td>NaN</td>\n",
       "      <td>NaN</td>\n",
       "      <td>NaN</td>\n",
       "      <td>NaN</td>\n",
       "      <td>NaN</td>\n",
       "    </tr>\n",
       "    <tr>\n",
       "      <th>FL0032</th>\n",
       "      <td>NaN</td>\n",
       "      <td>NaN</td>\n",
       "      <td>NaN</td>\n",
       "      <td>NaN</td>\n",
       "      <td>NaN</td>\n",
       "      <td>NaN</td>\n",
       "      <td>NaN</td>\n",
       "      <td>NaN</td>\n",
       "      <td>NaN</td>\n",
       "      <td>NaN</td>\n",
       "      <td>...</td>\n",
       "      <td>NaN</td>\n",
       "      <td>NaN</td>\n",
       "      <td>NaN</td>\n",
       "      <td>NaN</td>\n",
       "      <td>NaN</td>\n",
       "      <td>NaN</td>\n",
       "      <td>NaN</td>\n",
       "      <td>NaN</td>\n",
       "      <td>NaN</td>\n",
       "      <td>NaN</td>\n",
       "    </tr>\n",
       "    <tr>\n",
       "      <th>FL0040</th>\n",
       "      <td>NaN</td>\n",
       "      <td>NaN</td>\n",
       "      <td>NaN</td>\n",
       "      <td>NaN</td>\n",
       "      <td>NaN</td>\n",
       "      <td>NaN</td>\n",
       "      <td>NaN</td>\n",
       "      <td>NaN</td>\n",
       "      <td>NaN</td>\n",
       "      <td>NaN</td>\n",
       "      <td>...</td>\n",
       "      <td>NaN</td>\n",
       "      <td>NaN</td>\n",
       "      <td>NaN</td>\n",
       "      <td>NaN</td>\n",
       "      <td>NaN</td>\n",
       "      <td>NaN</td>\n",
       "      <td>NaN</td>\n",
       "      <td>0.18</td>\n",
       "      <td>NaN</td>\n",
       "      <td>NaN</td>\n",
       "    </tr>\n",
       "    <tr>\n",
       "      <th>...</th>\n",
       "      <td>...</td>\n",
       "      <td>...</td>\n",
       "      <td>...</td>\n",
       "      <td>...</td>\n",
       "      <td>...</td>\n",
       "      <td>...</td>\n",
       "      <td>...</td>\n",
       "      <td>...</td>\n",
       "      <td>...</td>\n",
       "      <td>...</td>\n",
       "      <td>...</td>\n",
       "      <td>...</td>\n",
       "      <td>...</td>\n",
       "      <td>...</td>\n",
       "      <td>...</td>\n",
       "      <td>...</td>\n",
       "      <td>...</td>\n",
       "      <td>...</td>\n",
       "      <td>...</td>\n",
       "      <td>...</td>\n",
       "      <td>...</td>\n",
       "    </tr>\n",
       "    <tr>\n",
       "      <th>FL9938</th>\n",
       "      <td>NaN</td>\n",
       "      <td>NaN</td>\n",
       "      <td>NaN</td>\n",
       "      <td>NaN</td>\n",
       "      <td>NaN</td>\n",
       "      <td>NaN</td>\n",
       "      <td>NaN</td>\n",
       "      <td>NaN</td>\n",
       "      <td>NaN</td>\n",
       "      <td>NaN</td>\n",
       "      <td>...</td>\n",
       "      <td>NaN</td>\n",
       "      <td>NaN</td>\n",
       "      <td>NaN</td>\n",
       "      <td>NaN</td>\n",
       "      <td>NaN</td>\n",
       "      <td>NaN</td>\n",
       "      <td>NaN</td>\n",
       "      <td>NaN</td>\n",
       "      <td>NaN</td>\n",
       "      <td>NaN</td>\n",
       "    </tr>\n",
       "    <tr>\n",
       "      <th>FL9941</th>\n",
       "      <td>NaN</td>\n",
       "      <td>NaN</td>\n",
       "      <td>NaN</td>\n",
       "      <td>NaN</td>\n",
       "      <td>NaN</td>\n",
       "      <td>NaN</td>\n",
       "      <td>NaN</td>\n",
       "      <td>NaN</td>\n",
       "      <td>NaN</td>\n",
       "      <td>NaN</td>\n",
       "      <td>...</td>\n",
       "      <td>NaN</td>\n",
       "      <td>NaN</td>\n",
       "      <td>NaN</td>\n",
       "      <td>NaN</td>\n",
       "      <td>NaN</td>\n",
       "      <td>NaN</td>\n",
       "      <td>NaN</td>\n",
       "      <td>NaN</td>\n",
       "      <td>NaN</td>\n",
       "      <td>NaN</td>\n",
       "    </tr>\n",
       "    <tr>\n",
       "      <th>FL9959</th>\n",
       "      <td>NaN</td>\n",
       "      <td>NaN</td>\n",
       "      <td>NaN</td>\n",
       "      <td>NaN</td>\n",
       "      <td>NaN</td>\n",
       "      <td>NaN</td>\n",
       "      <td>NaN</td>\n",
       "      <td>NaN</td>\n",
       "      <td>NaN</td>\n",
       "      <td>NaN</td>\n",
       "      <td>...</td>\n",
       "      <td>NaN</td>\n",
       "      <td>NaN</td>\n",
       "      <td>NaN</td>\n",
       "      <td>NaN</td>\n",
       "      <td>NaN</td>\n",
       "      <td>NaN</td>\n",
       "      <td>NaN</td>\n",
       "      <td>NaN</td>\n",
       "      <td>NaN</td>\n",
       "      <td>NaN</td>\n",
       "    </tr>\n",
       "    <tr>\n",
       "      <th>FL9966</th>\n",
       "      <td>NaN</td>\n",
       "      <td>NaN</td>\n",
       "      <td>NaN</td>\n",
       "      <td>NaN</td>\n",
       "      <td>NaN</td>\n",
       "      <td>NaN</td>\n",
       "      <td>NaN</td>\n",
       "      <td>NaN</td>\n",
       "      <td>NaN</td>\n",
       "      <td>NaN</td>\n",
       "      <td>...</td>\n",
       "      <td>NaN</td>\n",
       "      <td>NaN</td>\n",
       "      <td>NaN</td>\n",
       "      <td>NaN</td>\n",
       "      <td>NaN</td>\n",
       "      <td>NaN</td>\n",
       "      <td>NaN</td>\n",
       "      <td>NaN</td>\n",
       "      <td>NaN</td>\n",
       "      <td>NaN</td>\n",
       "    </tr>\n",
       "    <tr>\n",
       "      <th>FL9990</th>\n",
       "      <td>NaN</td>\n",
       "      <td>NaN</td>\n",
       "      <td>NaN</td>\n",
       "      <td>NaN</td>\n",
       "      <td>NaN</td>\n",
       "      <td>NaN</td>\n",
       "      <td>NaN</td>\n",
       "      <td>NaN</td>\n",
       "      <td>NaN</td>\n",
       "      <td>NaN</td>\n",
       "      <td>...</td>\n",
       "      <td>NaN</td>\n",
       "      <td>NaN</td>\n",
       "      <td>NaN</td>\n",
       "      <td>NaN</td>\n",
       "      <td>NaN</td>\n",
       "      <td>NaN</td>\n",
       "      <td>NaN</td>\n",
       "      <td>NaN</td>\n",
       "      <td>NaN</td>\n",
       "      <td>NaN</td>\n",
       "    </tr>\n",
       "  </tbody>\n",
       "</table>\n",
       "<p>945 rows × 978 columns</p>\n",
       "</div>"
      ],
      "text/plain": [
       "Crew_Experience  1000   1023   1028   1070   1082   1092   1106   1130   \\\n",
       "Flight_ID                                                                 \n",
       "FL0001             NaN    NaN    NaN    NaN    NaN    NaN    NaN    NaN   \n",
       "FL0028             NaN    NaN    NaN    NaN    NaN    NaN    NaN    NaN   \n",
       "FL0031             NaN    NaN    NaN    NaN    NaN    NaN    NaN    NaN   \n",
       "FL0032             NaN    NaN    NaN    NaN    NaN    NaN    NaN    NaN   \n",
       "FL0040             NaN    NaN    NaN    NaN    NaN    NaN    NaN    NaN   \n",
       "...                ...    ...    ...    ...    ...    ...    ...    ...   \n",
       "FL9938             NaN    NaN    NaN    NaN    NaN    NaN    NaN    NaN   \n",
       "FL9941             NaN    NaN    NaN    NaN    NaN    NaN    NaN    NaN   \n",
       "FL9959             NaN    NaN    NaN    NaN    NaN    NaN    NaN    NaN   \n",
       "FL9966             NaN    NaN    NaN    NaN    NaN    NaN    NaN    NaN   \n",
       "FL9990             NaN    NaN    NaN    NaN    NaN    NaN    NaN    NaN   \n",
       "\n",
       "Crew_Experience  1146   1163   ...  19831  19834  19854  19868  19872  19905  \\\n",
       "Flight_ID                      ...                                             \n",
       "FL0001             NaN    NaN  ...    NaN    NaN    NaN    NaN    NaN    NaN   \n",
       "FL0028             NaN    NaN  ...    NaN    NaN    NaN    NaN    NaN    NaN   \n",
       "FL0031             NaN    NaN  ...    NaN    NaN    NaN    NaN    NaN    NaN   \n",
       "FL0032             NaN    NaN  ...    NaN    NaN    NaN    NaN    NaN    NaN   \n",
       "FL0040             NaN    NaN  ...    NaN    NaN    NaN    NaN    NaN    NaN   \n",
       "...                ...    ...  ...    ...    ...    ...    ...    ...    ...   \n",
       "FL9938             NaN    NaN  ...    NaN    NaN    NaN    NaN    NaN    NaN   \n",
       "FL9941             NaN    NaN  ...    NaN    NaN    NaN    NaN    NaN    NaN   \n",
       "FL9959             NaN    NaN  ...    NaN    NaN    NaN    NaN    NaN    NaN   \n",
       "FL9966             NaN    NaN  ...    NaN    NaN    NaN    NaN    NaN    NaN   \n",
       "FL9990             NaN    NaN  ...    NaN    NaN    NaN    NaN    NaN    NaN   \n",
       "\n",
       "Crew_Experience  19920  19932  19956  19966  \n",
       "Flight_ID                                    \n",
       "FL0001             NaN    NaN    NaN    NaN  \n",
       "FL0028             NaN    NaN    NaN    NaN  \n",
       "FL0031             NaN    NaN    NaN    NaN  \n",
       "FL0032             NaN    NaN    NaN    NaN  \n",
       "FL0040             NaN   0.18    NaN    NaN  \n",
       "...                ...    ...    ...    ...  \n",
       "FL9938             NaN    NaN    NaN    NaN  \n",
       "FL9941             NaN    NaN    NaN    NaN  \n",
       "FL9959             NaN    NaN    NaN    NaN  \n",
       "FL9966             NaN    NaN    NaN    NaN  \n",
       "FL9990             NaN    NaN    NaN    NaN  \n",
       "\n",
       "[945 rows x 978 columns]"
      ]
     },
     "execution_count": 211,
     "metadata": {},
     "output_type": "execute_result"
    }
   ],
   "source": [
    "pd.pivot_table(data=df_FlightIncident_1000,index='Flight_ID',columns='Crew_Experience',values='Crash_Risk_Score',aggfunc='min')\n"
   ]
  },
  {
   "cell_type": "markdown",
   "id": "847a1c17-5953-4c71-8e8b-db5ba9dcaa62",
   "metadata": {},
   "source": [
    "#### Weather_Condition Temperature Maintenance_History"
   ]
  },
  {
   "cell_type": "code",
   "execution_count": 214,
   "id": "8bbe8116-95c9-44cc-9ceb-4cb94c508b08",
   "metadata": {},
   "outputs": [
    {
     "data": {
      "text/html": [
       "<div>\n",
       "<style scoped>\n",
       "    .dataframe tbody tr th:only-of-type {\n",
       "        vertical-align: middle;\n",
       "    }\n",
       "\n",
       "    .dataframe tbody tr th {\n",
       "        vertical-align: top;\n",
       "    }\n",
       "\n",
       "    .dataframe thead th {\n",
       "        text-align: right;\n",
       "    }\n",
       "</style>\n",
       "<table border=\"1\" class=\"dataframe\">\n",
       "  <thead>\n",
       "    <tr style=\"text-align: right;\">\n",
       "      <th>Aircraft_Type</th>\n",
       "      <th>Airbus A319</th>\n",
       "      <th>Airbus A320</th>\n",
       "      <th>Airbus A321</th>\n",
       "      <th>Airbus A330</th>\n",
       "      <th>Airbus A350</th>\n",
       "      <th>Airbus A380</th>\n",
       "      <th>Boeing 737-600</th>\n",
       "      <th>Boeing 737-700</th>\n",
       "      <th>Boeing 737-800</th>\n",
       "      <th>Boeing 737-900</th>\n",
       "      <th>Boeing 747-400</th>\n",
       "      <th>Boeing 747-800</th>\n",
       "      <th>Boeing 767</th>\n",
       "      <th>Boeing 777</th>\n",
       "      <th>Boeing 787</th>\n",
       "      <th>Bombardier CRJ</th>\n",
       "      <th>Cessna 172</th>\n",
       "      <th>Embraer E175</th>\n",
       "      <th>Embraer E190</th>\n",
       "    </tr>\n",
       "    <tr>\n",
       "      <th>Aircraft_Age</th>\n",
       "      <th></th>\n",
       "      <th></th>\n",
       "      <th></th>\n",
       "      <th></th>\n",
       "      <th></th>\n",
       "      <th></th>\n",
       "      <th></th>\n",
       "      <th></th>\n",
       "      <th></th>\n",
       "      <th></th>\n",
       "      <th></th>\n",
       "      <th></th>\n",
       "      <th></th>\n",
       "      <th></th>\n",
       "      <th></th>\n",
       "      <th></th>\n",
       "      <th></th>\n",
       "      <th></th>\n",
       "      <th></th>\n",
       "    </tr>\n",
       "  </thead>\n",
       "  <tbody>\n",
       "    <tr>\n",
       "      <th>0.5</th>\n",
       "      <td>NaN</td>\n",
       "      <td>NaN</td>\n",
       "      <td>NaN</td>\n",
       "      <td>246.0</td>\n",
       "      <td>NaN</td>\n",
       "      <td>415.0</td>\n",
       "      <td>NaN</td>\n",
       "      <td>NaN</td>\n",
       "      <td>NaN</td>\n",
       "      <td>NaN</td>\n",
       "      <td>NaN</td>\n",
       "      <td>NaN</td>\n",
       "      <td>NaN</td>\n",
       "      <td>NaN</td>\n",
       "      <td>NaN</td>\n",
       "      <td>NaN</td>\n",
       "      <td>NaN</td>\n",
       "      <td>NaN</td>\n",
       "      <td>NaN</td>\n",
       "    </tr>\n",
       "    <tr>\n",
       "      <th>0.6</th>\n",
       "      <td>NaN</td>\n",
       "      <td>NaN</td>\n",
       "      <td>NaN</td>\n",
       "      <td>NaN</td>\n",
       "      <td>NaN</td>\n",
       "      <td>NaN</td>\n",
       "      <td>NaN</td>\n",
       "      <td>309.0</td>\n",
       "      <td>116.0</td>\n",
       "      <td>NaN</td>\n",
       "      <td>NaN</td>\n",
       "      <td>485.0</td>\n",
       "      <td>NaN</td>\n",
       "      <td>NaN</td>\n",
       "      <td>NaN</td>\n",
       "      <td>NaN</td>\n",
       "      <td>518.0</td>\n",
       "      <td>NaN</td>\n",
       "      <td>NaN</td>\n",
       "    </tr>\n",
       "    <tr>\n",
       "      <th>0.7</th>\n",
       "      <td>202.0</td>\n",
       "      <td>230.0</td>\n",
       "      <td>NaN</td>\n",
       "      <td>NaN</td>\n",
       "      <td>490.0</td>\n",
       "      <td>NaN</td>\n",
       "      <td>NaN</td>\n",
       "      <td>NaN</td>\n",
       "      <td>NaN</td>\n",
       "      <td>NaN</td>\n",
       "      <td>NaN</td>\n",
       "      <td>318.0</td>\n",
       "      <td>397.0</td>\n",
       "      <td>NaN</td>\n",
       "      <td>NaN</td>\n",
       "      <td>359.0</td>\n",
       "      <td>NaN</td>\n",
       "      <td>NaN</td>\n",
       "      <td>NaN</td>\n",
       "    </tr>\n",
       "    <tr>\n",
       "      <th>0.8</th>\n",
       "      <td>NaN</td>\n",
       "      <td>NaN</td>\n",
       "      <td>NaN</td>\n",
       "      <td>NaN</td>\n",
       "      <td>NaN</td>\n",
       "      <td>NaN</td>\n",
       "      <td>NaN</td>\n",
       "      <td>NaN</td>\n",
       "      <td>NaN</td>\n",
       "      <td>NaN</td>\n",
       "      <td>NaN</td>\n",
       "      <td>NaN</td>\n",
       "      <td>NaN</td>\n",
       "      <td>NaN</td>\n",
       "      <td>NaN</td>\n",
       "      <td>NaN</td>\n",
       "      <td>NaN</td>\n",
       "      <td>221.0</td>\n",
       "      <td>NaN</td>\n",
       "    </tr>\n",
       "    <tr>\n",
       "      <th>0.9</th>\n",
       "      <td>NaN</td>\n",
       "      <td>NaN</td>\n",
       "      <td>NaN</td>\n",
       "      <td>NaN</td>\n",
       "      <td>NaN</td>\n",
       "      <td>NaN</td>\n",
       "      <td>NaN</td>\n",
       "      <td>NaN</td>\n",
       "      <td>196.0</td>\n",
       "      <td>NaN</td>\n",
       "      <td>NaN</td>\n",
       "      <td>NaN</td>\n",
       "      <td>NaN</td>\n",
       "      <td>NaN</td>\n",
       "      <td>NaN</td>\n",
       "      <td>NaN</td>\n",
       "      <td>435.0</td>\n",
       "      <td>337.0</td>\n",
       "      <td>168.0</td>\n",
       "    </tr>\n",
       "    <tr>\n",
       "      <th>...</th>\n",
       "      <td>...</td>\n",
       "      <td>...</td>\n",
       "      <td>...</td>\n",
       "      <td>...</td>\n",
       "      <td>...</td>\n",
       "      <td>...</td>\n",
       "      <td>...</td>\n",
       "      <td>...</td>\n",
       "      <td>...</td>\n",
       "      <td>...</td>\n",
       "      <td>...</td>\n",
       "      <td>...</td>\n",
       "      <td>...</td>\n",
       "      <td>...</td>\n",
       "      <td>...</td>\n",
       "      <td>...</td>\n",
       "      <td>...</td>\n",
       "      <td>...</td>\n",
       "      <td>...</td>\n",
       "    </tr>\n",
       "    <tr>\n",
       "      <th>24.6</th>\n",
       "      <td>NaN</td>\n",
       "      <td>NaN</td>\n",
       "      <td>NaN</td>\n",
       "      <td>NaN</td>\n",
       "      <td>NaN</td>\n",
       "      <td>NaN</td>\n",
       "      <td>NaN</td>\n",
       "      <td>NaN</td>\n",
       "      <td>NaN</td>\n",
       "      <td>NaN</td>\n",
       "      <td>NaN</td>\n",
       "      <td>NaN</td>\n",
       "      <td>304.0</td>\n",
       "      <td>500.0</td>\n",
       "      <td>516.0</td>\n",
       "      <td>420.0</td>\n",
       "      <td>NaN</td>\n",
       "      <td>NaN</td>\n",
       "      <td>NaN</td>\n",
       "    </tr>\n",
       "    <tr>\n",
       "      <th>24.7</th>\n",
       "      <td>102.0</td>\n",
       "      <td>NaN</td>\n",
       "      <td>NaN</td>\n",
       "      <td>NaN</td>\n",
       "      <td>NaN</td>\n",
       "      <td>NaN</td>\n",
       "      <td>NaN</td>\n",
       "      <td>NaN</td>\n",
       "      <td>NaN</td>\n",
       "      <td>NaN</td>\n",
       "      <td>NaN</td>\n",
       "      <td>NaN</td>\n",
       "      <td>481.0</td>\n",
       "      <td>NaN</td>\n",
       "      <td>NaN</td>\n",
       "      <td>NaN</td>\n",
       "      <td>NaN</td>\n",
       "      <td>364.0</td>\n",
       "      <td>NaN</td>\n",
       "    </tr>\n",
       "    <tr>\n",
       "      <th>24.8</th>\n",
       "      <td>NaN</td>\n",
       "      <td>442.0</td>\n",
       "      <td>NaN</td>\n",
       "      <td>281.0</td>\n",
       "      <td>NaN</td>\n",
       "      <td>NaN</td>\n",
       "      <td>476.0</td>\n",
       "      <td>NaN</td>\n",
       "      <td>237.0</td>\n",
       "      <td>NaN</td>\n",
       "      <td>335.0</td>\n",
       "      <td>307.0</td>\n",
       "      <td>NaN</td>\n",
       "      <td>243.0</td>\n",
       "      <td>NaN</td>\n",
       "      <td>NaN</td>\n",
       "      <td>NaN</td>\n",
       "      <td>NaN</td>\n",
       "      <td>NaN</td>\n",
       "    </tr>\n",
       "    <tr>\n",
       "      <th>24.9</th>\n",
       "      <td>260.0</td>\n",
       "      <td>NaN</td>\n",
       "      <td>NaN</td>\n",
       "      <td>NaN</td>\n",
       "      <td>527.0</td>\n",
       "      <td>494.0</td>\n",
       "      <td>NaN</td>\n",
       "      <td>NaN</td>\n",
       "      <td>NaN</td>\n",
       "      <td>NaN</td>\n",
       "      <td>NaN</td>\n",
       "      <td>NaN</td>\n",
       "      <td>256.0</td>\n",
       "      <td>NaN</td>\n",
       "      <td>NaN</td>\n",
       "      <td>NaN</td>\n",
       "      <td>NaN</td>\n",
       "      <td>NaN</td>\n",
       "      <td>NaN</td>\n",
       "    </tr>\n",
       "    <tr>\n",
       "      <th>25.0</th>\n",
       "      <td>NaN</td>\n",
       "      <td>NaN</td>\n",
       "      <td>NaN</td>\n",
       "      <td>NaN</td>\n",
       "      <td>NaN</td>\n",
       "      <td>NaN</td>\n",
       "      <td>547.0</td>\n",
       "      <td>NaN</td>\n",
       "      <td>NaN</td>\n",
       "      <td>NaN</td>\n",
       "      <td>NaN</td>\n",
       "      <td>NaN</td>\n",
       "      <td>NaN</td>\n",
       "      <td>NaN</td>\n",
       "      <td>NaN</td>\n",
       "      <td>NaN</td>\n",
       "      <td>NaN</td>\n",
       "      <td>440.0</td>\n",
       "      <td>253.0</td>\n",
       "    </tr>\n",
       "  </tbody>\n",
       "</table>\n",
       "<p>241 rows × 19 columns</p>\n",
       "</div>"
      ],
      "text/plain": [
       "Aircraft_Type  Airbus A319  Airbus A320  Airbus A321  Airbus A330  \\\n",
       "Aircraft_Age                                                        \n",
       "0.5                    NaN          NaN          NaN        246.0   \n",
       "0.6                    NaN          NaN          NaN          NaN   \n",
       "0.7                  202.0        230.0          NaN          NaN   \n",
       "0.8                    NaN          NaN          NaN          NaN   \n",
       "0.9                    NaN          NaN          NaN          NaN   \n",
       "...                    ...          ...          ...          ...   \n",
       "24.6                   NaN          NaN          NaN          NaN   \n",
       "24.7                 102.0          NaN          NaN          NaN   \n",
       "24.8                   NaN        442.0          NaN        281.0   \n",
       "24.9                 260.0          NaN          NaN          NaN   \n",
       "25.0                   NaN          NaN          NaN          NaN   \n",
       "\n",
       "Aircraft_Type  Airbus A350  Airbus A380  Boeing 737-600  Boeing 737-700  \\\n",
       "Aircraft_Age                                                              \n",
       "0.5                    NaN        415.0             NaN             NaN   \n",
       "0.6                    NaN          NaN             NaN           309.0   \n",
       "0.7                  490.0          NaN             NaN             NaN   \n",
       "0.8                    NaN          NaN             NaN             NaN   \n",
       "0.9                    NaN          NaN             NaN             NaN   \n",
       "...                    ...          ...             ...             ...   \n",
       "24.6                   NaN          NaN             NaN             NaN   \n",
       "24.7                   NaN          NaN             NaN             NaN   \n",
       "24.8                   NaN          NaN           476.0             NaN   \n",
       "24.9                 527.0        494.0             NaN             NaN   \n",
       "25.0                   NaN          NaN           547.0             NaN   \n",
       "\n",
       "Aircraft_Type  Boeing 737-800  Boeing 737-900  Boeing 747-400  Boeing 747-800  \\\n",
       "Aircraft_Age                                                                    \n",
       "0.5                       NaN             NaN             NaN             NaN   \n",
       "0.6                     116.0             NaN             NaN           485.0   \n",
       "0.7                       NaN             NaN             NaN           318.0   \n",
       "0.8                       NaN             NaN             NaN             NaN   \n",
       "0.9                     196.0             NaN             NaN             NaN   \n",
       "...                       ...             ...             ...             ...   \n",
       "24.6                      NaN             NaN             NaN             NaN   \n",
       "24.7                      NaN             NaN             NaN             NaN   \n",
       "24.8                    237.0             NaN           335.0           307.0   \n",
       "24.9                      NaN             NaN             NaN             NaN   \n",
       "25.0                      NaN             NaN             NaN             NaN   \n",
       "\n",
       "Aircraft_Type  Boeing 767  Boeing 777  Boeing 787  Bombardier CRJ  Cessna 172  \\\n",
       "Aircraft_Age                                                                    \n",
       "0.5                   NaN         NaN         NaN             NaN         NaN   \n",
       "0.6                   NaN         NaN         NaN             NaN       518.0   \n",
       "0.7                 397.0         NaN         NaN           359.0         NaN   \n",
       "0.8                   NaN         NaN         NaN             NaN         NaN   \n",
       "0.9                   NaN         NaN         NaN             NaN       435.0   \n",
       "...                   ...         ...         ...             ...         ...   \n",
       "24.6                304.0       500.0       516.0           420.0         NaN   \n",
       "24.7                481.0         NaN         NaN             NaN         NaN   \n",
       "24.8                  NaN       243.0         NaN             NaN         NaN   \n",
       "24.9                256.0         NaN         NaN             NaN         NaN   \n",
       "25.0                  NaN         NaN         NaN             NaN         NaN   \n",
       "\n",
       "Aircraft_Type  Embraer E175  Embraer E190  \n",
       "Aircraft_Age                               \n",
       "0.5                     NaN           NaN  \n",
       "0.6                     NaN           NaN  \n",
       "0.7                     NaN           NaN  \n",
       "0.8                   221.0           NaN  \n",
       "0.9                   337.0         168.0  \n",
       "...                     ...           ...  \n",
       "24.6                    NaN           NaN  \n",
       "24.7                  364.0           NaN  \n",
       "24.8                    NaN           NaN  \n",
       "24.9                    NaN           NaN  \n",
       "25.0                  440.0         253.0  \n",
       "\n",
       "[241 rows x 19 columns]"
      ]
     },
     "execution_count": 214,
     "metadata": {},
     "output_type": "execute_result"
    }
   ],
   "source": [
    "pd.crosstab(index=df_FlightIncident_1000.Aircraft_Age,\n",
    "    columns=df_FlightIncident_1000.Aircraft_Type,\n",
    "    values=df_FlightIncident_1000.Airspeed,aggfunc='max')"
   ]
  },
  {
   "cell_type": "code",
   "execution_count": null,
   "id": "4196dd7e-5c23-402f-96f9-89cbe2331ac2",
   "metadata": {},
   "outputs": [],
   "source": []
  },
  {
   "cell_type": "markdown",
   "id": "fb068e5f-1a19-47b6-92dd-c1b68ba968ef",
   "metadata": {},
   "source": [
    "## Make data ready for maching learning "
   ]
  },
  {
   "cell_type": "code",
   "execution_count": 219,
   "id": "bb2b939c-013f-44b2-be2b-aa92bf38d838",
   "metadata": {},
   "outputs": [
    {
     "data": {
      "text/plain": [
       "Index(['Flight_ID', 'Date', 'Time', 'Aircraft_Type', 'Aircraft_Age',\n",
       "       'Flight_Hours', 'Crew_Experience', 'Pilot_Error_Flag', 'Altitude',\n",
       "       'Airspeed', 'Weather_Condition', 'Visibility', 'Wind_Speed',\n",
       "       'Temperature', 'Icing_Condition', 'Mechanical_Failure_Flag',\n",
       "       'Engine_Failure_Type', 'Maintenance_History',\n",
       "       'Air_Traffic_Control_Issue', 'Flight_Phase', 'Terrain_Type',\n",
       "       'Crash_Severity', 'Casualties', 'Survivors', 'External_Factor',\n",
       "       'Flight_Data_Anomaly_Score', 'Crash_Cause', 'Crash_Risk_Score'],\n",
       "      dtype='object')"
      ]
     },
     "execution_count": 219,
     "metadata": {},
     "output_type": "execute_result"
    }
   ],
   "source": [
    "# saparted the depent and indipent varable \n",
    "df_FlightIncident_1000.columns"
   ]
  },
  {
   "cell_type": "code",
   "execution_count": 221,
   "id": "62e27bb1-2329-4b88-b4a5-1b5974c263f2",
   "metadata": {},
   "outputs": [],
   "source": [
    "# Here, we are going to analyze the Aircraft_Type column in the dataset.\n",
    "target=df_FlightIncident_1000.Aircraft_Age"
   ]
  },
  {
   "cell_type": "code",
   "execution_count": 223,
   "id": "6ae59c78-26b4-4fe1-8541-51313563baff",
   "metadata": {},
   "outputs": [
    {
     "data": {
      "text/plain": [
       "Index(['Flight_ID', 'Date', 'Time', 'Aircraft_Type', 'Aircraft_Age',\n",
       "       'Flight_Hours', 'Crew_Experience', 'Pilot_Error_Flag', 'Altitude',\n",
       "       'Airspeed', 'Weather_Condition', 'Visibility', 'Wind_Speed',\n",
       "       'Temperature', 'Icing_Condition', 'Mechanical_Failure_Flag',\n",
       "       'Engine_Failure_Type', 'Maintenance_History',\n",
       "       'Air_Traffic_Control_Issue', 'Flight_Phase', 'Terrain_Type',\n",
       "       'Crash_Severity', 'Casualties', 'Survivors', 'External_Factor',\n",
       "       'Flight_Data_Anomaly_Score', 'Crash_Cause', 'Crash_Risk_Score'],\n",
       "      dtype='object')"
      ]
     },
     "execution_count": 223,
     "metadata": {},
     "output_type": "execute_result"
    }
   ],
   "source": [
    "# check the columns \n",
    "df_FlightIncident_1000.columns"
   ]
  },
  {
   "cell_type": "code",
   "execution_count": 231,
   "id": "804f07d5-dd36-4f62-9a71-da0363962ab3",
   "metadata": {},
   "outputs": [],
   "source": [
    "# drop depent variable for main data frame\n",
    "ind = df_FlightIncident_1000.drop('Aircraft_Age', axis=1)\n"
   ]
  },
  {
   "cell_type": "code",
   "execution_count": 233,
   "id": "3a614292-ddc6-4285-8671-71730246a838",
   "metadata": {},
   "outputs": [
    {
     "data": {
      "text/plain": [
       "Index(['Flight_ID', 'Date', 'Time', 'Aircraft_Type', 'Flight_Hours',\n",
       "       'Crew_Experience', 'Pilot_Error_Flag', 'Altitude', 'Airspeed',\n",
       "       'Weather_Condition', 'Visibility', 'Wind_Speed', 'Temperature',\n",
       "       'Icing_Condition', 'Mechanical_Failure_Flag', 'Engine_Failure_Type',\n",
       "       'Maintenance_History', 'Air_Traffic_Control_Issue', 'Flight_Phase',\n",
       "       'Terrain_Type', 'Crash_Severity', 'Casualties', 'Survivors',\n",
       "       'External_Factor', 'Flight_Data_Anomaly_Score', 'Crash_Cause',\n",
       "       'Crash_Risk_Score'],\n",
       "      dtype='object')"
      ]
     },
     "execution_count": 233,
     "metadata": {},
     "output_type": "execute_result"
    }
   ],
   "source": [
    "# check whare that colums is delete or not \n",
    "ind.columns"
   ]
  },
  {
   "cell_type": "code",
   "execution_count": 235,
   "id": "da38bf81-63cf-4cce-9c24-7dcd88a5c718",
   "metadata": {},
   "outputs": [],
   "source": [
    "# 'Aircraft_Age' is a numerical column representing the age of the aircraft.\n",
    "# We are retaining it as a feature for the machine learning process.\n",
    "ind=df_FlightIncident_1000.drop('Aircraft_Age',axis = 1)"
   ]
  },
  {
   "cell_type": "code",
   "execution_count": 237,
   "id": "fe99060f-7e12-4a4c-8429-5e218023c9e2",
   "metadata": {},
   "outputs": [
    {
     "data": {
      "text/plain": [
       "Index(['Flight_ID', 'Date', 'Time', 'Aircraft_Type', 'Flight_Hours',\n",
       "       'Crew_Experience', 'Pilot_Error_Flag', 'Altitude', 'Airspeed',\n",
       "       'Weather_Condition', 'Visibility', 'Wind_Speed', 'Temperature',\n",
       "       'Icing_Condition', 'Mechanical_Failure_Flag', 'Engine_Failure_Type',\n",
       "       'Maintenance_History', 'Air_Traffic_Control_Issue', 'Flight_Phase',\n",
       "       'Terrain_Type', 'Crash_Severity', 'Casualties', 'Survivors',\n",
       "       'External_Factor', 'Flight_Data_Anomaly_Score', 'Crash_Cause',\n",
       "       'Crash_Risk_Score'],\n",
       "      dtype='object')"
      ]
     },
     "execution_count": 237,
     "metadata": {},
     "output_type": "execute_result"
    }
   ],
   "source": [
    "ind.columns"
   ]
  },
  {
   "cell_type": "markdown",
   "id": "ff93b123-80fa-4b90-b9b4-3bbff4808757",
   "metadata": {},
   "source": [
    "### Perform encoding on categrical columns"
   ]
  },
  {
   "cell_type": "code",
   "execution_count": 240,
   "id": "522a9c83-96cc-4253-9ab8-75349210a745",
   "metadata": {},
   "outputs": [
    {
     "data": {
      "text/html": [
       "<div>\n",
       "<style scoped>\n",
       "    .dataframe tbody tr th:only-of-type {\n",
       "        vertical-align: middle;\n",
       "    }\n",
       "\n",
       "    .dataframe tbody tr th {\n",
       "        vertical-align: top;\n",
       "    }\n",
       "\n",
       "    .dataframe thead th {\n",
       "        text-align: right;\n",
       "    }\n",
       "</style>\n",
       "<table border=\"1\" class=\"dataframe\">\n",
       "  <thead>\n",
       "    <tr style=\"text-align: right;\">\n",
       "      <th></th>\n",
       "      <th>Flight_ID</th>\n",
       "      <th>Date</th>\n",
       "      <th>Time</th>\n",
       "      <th>Aircraft_Type</th>\n",
       "      <th>Weather_Condition</th>\n",
       "      <th>Engine_Failure_Type</th>\n",
       "      <th>Flight_Phase</th>\n",
       "      <th>Terrain_Type</th>\n",
       "      <th>Crash_Severity</th>\n",
       "      <th>External_Factor</th>\n",
       "      <th>Crash_Cause</th>\n",
       "    </tr>\n",
       "  </thead>\n",
       "  <tbody>\n",
       "    <tr>\n",
       "      <th>0</th>\n",
       "      <td>FL5447</td>\n",
       "      <td>29-06-2023</td>\n",
       "      <td>02:35:26</td>\n",
       "      <td>Airbus A330</td>\n",
       "      <td>Snow</td>\n",
       "      <td>Bird Strike</td>\n",
       "      <td>Descent</td>\n",
       "      <td>Urban</td>\n",
       "      <td>Non-Fatal</td>\n",
       "      <td>Bird Strike</td>\n",
       "      <td>Weather</td>\n",
       "    </tr>\n",
       "    <tr>\n",
       "      <th>1</th>\n",
       "      <td>FL0032</td>\n",
       "      <td>29-12-2023</td>\n",
       "      <td>12:44:26</td>\n",
       "      <td>Airbus A350</td>\n",
       "      <td>Clear</td>\n",
       "      <td>Fuel System</td>\n",
       "      <td>Cruise</td>\n",
       "      <td>Mountain</td>\n",
       "      <td>Fatal</td>\n",
       "      <td>NaN</td>\n",
       "      <td>Mechanical Failure</td>\n",
       "    </tr>\n",
       "    <tr>\n",
       "      <th>2</th>\n",
       "      <td>FL1920</td>\n",
       "      <td>11-04-2021</td>\n",
       "      <td>10:26:31</td>\n",
       "      <td>Boeing 737-900</td>\n",
       "      <td>Rain</td>\n",
       "      <td>Fuel System</td>\n",
       "      <td>Landing</td>\n",
       "      <td>Mountain</td>\n",
       "      <td>Non-Fatal</td>\n",
       "      <td>Bird Strike</td>\n",
       "      <td>Mechanical Failure</td>\n",
       "    </tr>\n",
       "    <tr>\n",
       "      <th>3</th>\n",
       "      <td>FL6713</td>\n",
       "      <td>20-03-2019</td>\n",
       "      <td>02:16:37</td>\n",
       "      <td>Airbus A321</td>\n",
       "      <td>Clear</td>\n",
       "      <td>Bird Strike</td>\n",
       "      <td>Climb</td>\n",
       "      <td>Runway</td>\n",
       "      <td>Fatal</td>\n",
       "      <td>NaN</td>\n",
       "      <td>External</td>\n",
       "    </tr>\n",
       "    <tr>\n",
       "      <th>4</th>\n",
       "      <td>FL8130</td>\n",
       "      <td>29-09-2022</td>\n",
       "      <td>17:29:42</td>\n",
       "      <td>Boeing 737-700</td>\n",
       "      <td>Rain</td>\n",
       "      <td>Compressor Stall</td>\n",
       "      <td>Takeoff</td>\n",
       "      <td>Rural</td>\n",
       "      <td>Non-Fatal</td>\n",
       "      <td>Bird Strike</td>\n",
       "      <td>ATC</td>\n",
       "    </tr>\n",
       "  </tbody>\n",
       "</table>\n",
       "</div>"
      ],
      "text/plain": [
       "  Flight_ID        Date      Time   Aircraft_Type Weather_Condition  \\\n",
       "0    FL5447  29-06-2023  02:35:26     Airbus A330              Snow   \n",
       "1    FL0032  29-12-2023  12:44:26     Airbus A350             Clear   \n",
       "2    FL1920  11-04-2021  10:26:31  Boeing 737-900              Rain   \n",
       "3    FL6713  20-03-2019  02:16:37     Airbus A321             Clear   \n",
       "4    FL8130  29-09-2022  17:29:42  Boeing 737-700              Rain   \n",
       "\n",
       "  Engine_Failure_Type Flight_Phase Terrain_Type Crash_Severity  \\\n",
       "0         Bird Strike      Descent        Urban      Non-Fatal   \n",
       "1         Fuel System       Cruise     Mountain          Fatal   \n",
       "2         Fuel System      Landing     Mountain      Non-Fatal   \n",
       "3         Bird Strike        Climb       Runway          Fatal   \n",
       "4    Compressor Stall      Takeoff        Rural      Non-Fatal   \n",
       "\n",
       "  External_Factor         Crash_Cause  \n",
       "0     Bird Strike             Weather  \n",
       "1             NaN  Mechanical Failure  \n",
       "2     Bird Strike  Mechanical Failure  \n",
       "3             NaN            External  \n",
       "4     Bird Strike                 ATC  "
      ]
     },
     "execution_count": 240,
     "metadata": {},
     "output_type": "execute_result"
    }
   ],
   "source": [
    "# Seperated categrical columns indepent variable\n",
    "df_cat_ind=ind.select_dtypes(include ='object')\n",
    "df_cat_ind.head()"
   ]
  },
  {
   "cell_type": "code",
   "execution_count": 242,
   "id": "fa3f552e-059e-4aca-92e8-16173193b73b",
   "metadata": {},
   "outputs": [
    {
     "data": {
      "text/plain": [
       "Index(['Flight_ID_FL0001', 'Flight_ID_FL0028', 'Flight_ID_FL0031',\n",
       "       'Flight_ID_FL0032', 'Flight_ID_FL0040', 'Flight_ID_FL0047',\n",
       "       'Flight_ID_FL0058', 'Flight_ID_FL0068', 'Flight_ID_FL0086',\n",
       "       'Flight_ID_FL0092',\n",
       "       ...\n",
       "       'Crash_Severity_Fatal', 'Crash_Severity_Minor',\n",
       "       'Crash_Severity_Non-Fatal', 'External_Factor_Bird Strike',\n",
       "       'External_Factor_Terrorism', 'Crash_Cause_ATC', 'Crash_Cause_External',\n",
       "       'Crash_Cause_Human Error', 'Crash_Cause_Mechanical Failure',\n",
       "       'Crash_Cause_Weather'],\n",
       "      dtype='object', length=2825)"
      ]
     },
     "execution_count": 242,
     "metadata": {},
     "output_type": "execute_result"
    }
   ],
   "source": [
    "# perform encoding \n",
    "encoded = pd.get_dummies(df_cat_ind)\n",
    "encoded.columns"
   ]
  },
  {
   "cell_type": "code",
   "execution_count": 244,
   "id": "9b0cadf4-368f-4c3d-81fe-f6bf21055dc9",
   "metadata": {},
   "outputs": [
    {
     "data": {
      "text/html": [
       "<div>\n",
       "<style scoped>\n",
       "    .dataframe tbody tr th:only-of-type {\n",
       "        vertical-align: middle;\n",
       "    }\n",
       "\n",
       "    .dataframe tbody tr th {\n",
       "        vertical-align: top;\n",
       "    }\n",
       "\n",
       "    .dataframe thead th {\n",
       "        text-align: right;\n",
       "    }\n",
       "</style>\n",
       "<table border=\"1\" class=\"dataframe\">\n",
       "  <thead>\n",
       "    <tr style=\"text-align: right;\">\n",
       "      <th></th>\n",
       "      <th>Flight_ID_FL0001</th>\n",
       "      <th>Flight_ID_FL0028</th>\n",
       "      <th>Flight_ID_FL0031</th>\n",
       "      <th>Flight_ID_FL0032</th>\n",
       "      <th>Flight_ID_FL0040</th>\n",
       "      <th>Flight_ID_FL0047</th>\n",
       "      <th>Flight_ID_FL0058</th>\n",
       "      <th>Flight_ID_FL0068</th>\n",
       "      <th>Flight_ID_FL0086</th>\n",
       "      <th>Flight_ID_FL0092</th>\n",
       "      <th>...</th>\n",
       "      <th>Crash_Severity_Fatal</th>\n",
       "      <th>Crash_Severity_Minor</th>\n",
       "      <th>Crash_Severity_Non-Fatal</th>\n",
       "      <th>External_Factor_Bird Strike</th>\n",
       "      <th>External_Factor_Terrorism</th>\n",
       "      <th>Crash_Cause_ATC</th>\n",
       "      <th>Crash_Cause_External</th>\n",
       "      <th>Crash_Cause_Human Error</th>\n",
       "      <th>Crash_Cause_Mechanical Failure</th>\n",
       "      <th>Crash_Cause_Weather</th>\n",
       "    </tr>\n",
       "  </thead>\n",
       "  <tbody>\n",
       "    <tr>\n",
       "      <th>0</th>\n",
       "      <td>False</td>\n",
       "      <td>False</td>\n",
       "      <td>False</td>\n",
       "      <td>False</td>\n",
       "      <td>False</td>\n",
       "      <td>False</td>\n",
       "      <td>False</td>\n",
       "      <td>False</td>\n",
       "      <td>False</td>\n",
       "      <td>False</td>\n",
       "      <td>...</td>\n",
       "      <td>False</td>\n",
       "      <td>False</td>\n",
       "      <td>True</td>\n",
       "      <td>True</td>\n",
       "      <td>False</td>\n",
       "      <td>False</td>\n",
       "      <td>False</td>\n",
       "      <td>False</td>\n",
       "      <td>False</td>\n",
       "      <td>True</td>\n",
       "    </tr>\n",
       "    <tr>\n",
       "      <th>1</th>\n",
       "      <td>False</td>\n",
       "      <td>False</td>\n",
       "      <td>False</td>\n",
       "      <td>True</td>\n",
       "      <td>False</td>\n",
       "      <td>False</td>\n",
       "      <td>False</td>\n",
       "      <td>False</td>\n",
       "      <td>False</td>\n",
       "      <td>False</td>\n",
       "      <td>...</td>\n",
       "      <td>True</td>\n",
       "      <td>False</td>\n",
       "      <td>False</td>\n",
       "      <td>False</td>\n",
       "      <td>False</td>\n",
       "      <td>False</td>\n",
       "      <td>False</td>\n",
       "      <td>False</td>\n",
       "      <td>True</td>\n",
       "      <td>False</td>\n",
       "    </tr>\n",
       "    <tr>\n",
       "      <th>2</th>\n",
       "      <td>False</td>\n",
       "      <td>False</td>\n",
       "      <td>False</td>\n",
       "      <td>False</td>\n",
       "      <td>False</td>\n",
       "      <td>False</td>\n",
       "      <td>False</td>\n",
       "      <td>False</td>\n",
       "      <td>False</td>\n",
       "      <td>False</td>\n",
       "      <td>...</td>\n",
       "      <td>False</td>\n",
       "      <td>False</td>\n",
       "      <td>True</td>\n",
       "      <td>True</td>\n",
       "      <td>False</td>\n",
       "      <td>False</td>\n",
       "      <td>False</td>\n",
       "      <td>False</td>\n",
       "      <td>True</td>\n",
       "      <td>False</td>\n",
       "    </tr>\n",
       "    <tr>\n",
       "      <th>3</th>\n",
       "      <td>False</td>\n",
       "      <td>False</td>\n",
       "      <td>False</td>\n",
       "      <td>False</td>\n",
       "      <td>False</td>\n",
       "      <td>False</td>\n",
       "      <td>False</td>\n",
       "      <td>False</td>\n",
       "      <td>False</td>\n",
       "      <td>False</td>\n",
       "      <td>...</td>\n",
       "      <td>True</td>\n",
       "      <td>False</td>\n",
       "      <td>False</td>\n",
       "      <td>False</td>\n",
       "      <td>False</td>\n",
       "      <td>False</td>\n",
       "      <td>True</td>\n",
       "      <td>False</td>\n",
       "      <td>False</td>\n",
       "      <td>False</td>\n",
       "    </tr>\n",
       "    <tr>\n",
       "      <th>4</th>\n",
       "      <td>False</td>\n",
       "      <td>False</td>\n",
       "      <td>False</td>\n",
       "      <td>False</td>\n",
       "      <td>False</td>\n",
       "      <td>False</td>\n",
       "      <td>False</td>\n",
       "      <td>False</td>\n",
       "      <td>False</td>\n",
       "      <td>False</td>\n",
       "      <td>...</td>\n",
       "      <td>False</td>\n",
       "      <td>False</td>\n",
       "      <td>True</td>\n",
       "      <td>True</td>\n",
       "      <td>False</td>\n",
       "      <td>True</td>\n",
       "      <td>False</td>\n",
       "      <td>False</td>\n",
       "      <td>False</td>\n",
       "      <td>False</td>\n",
       "    </tr>\n",
       "  </tbody>\n",
       "</table>\n",
       "<p>5 rows × 2825 columns</p>\n",
       "</div>"
      ],
      "text/plain": [
       "   Flight_ID_FL0001  Flight_ID_FL0028  Flight_ID_FL0031  Flight_ID_FL0032  \\\n",
       "0             False             False             False             False   \n",
       "1             False             False             False              True   \n",
       "2             False             False             False             False   \n",
       "3             False             False             False             False   \n",
       "4             False             False             False             False   \n",
       "\n",
       "   Flight_ID_FL0040  Flight_ID_FL0047  Flight_ID_FL0058  Flight_ID_FL0068  \\\n",
       "0             False             False             False             False   \n",
       "1             False             False             False             False   \n",
       "2             False             False             False             False   \n",
       "3             False             False             False             False   \n",
       "4             False             False             False             False   \n",
       "\n",
       "   Flight_ID_FL0086  Flight_ID_FL0092  ...  Crash_Severity_Fatal  \\\n",
       "0             False             False  ...                 False   \n",
       "1             False             False  ...                  True   \n",
       "2             False             False  ...                 False   \n",
       "3             False             False  ...                  True   \n",
       "4             False             False  ...                 False   \n",
       "\n",
       "   Crash_Severity_Minor  Crash_Severity_Non-Fatal  \\\n",
       "0                 False                      True   \n",
       "1                 False                     False   \n",
       "2                 False                      True   \n",
       "3                 False                     False   \n",
       "4                 False                      True   \n",
       "\n",
       "   External_Factor_Bird Strike  External_Factor_Terrorism  Crash_Cause_ATC  \\\n",
       "0                         True                      False            False   \n",
       "1                        False                      False            False   \n",
       "2                         True                      False            False   \n",
       "3                        False                      False            False   \n",
       "4                         True                      False             True   \n",
       "\n",
       "   Crash_Cause_External  Crash_Cause_Human Error  \\\n",
       "0                 False                    False   \n",
       "1                 False                    False   \n",
       "2                 False                    False   \n",
       "3                  True                    False   \n",
       "4                 False                    False   \n",
       "\n",
       "   Crash_Cause_Mechanical Failure  Crash_Cause_Weather  \n",
       "0                           False                 True  \n",
       "1                            True                False  \n",
       "2                            True                False  \n",
       "3                           False                False  \n",
       "4                           False                False  \n",
       "\n",
       "[5 rows x 2825 columns]"
      ]
     },
     "execution_count": 244,
     "metadata": {},
     "output_type": "execute_result"
    }
   ],
   "source": [
    "# check data encodeding \n",
    "encoded.head()"
   ]
  },
  {
   "cell_type": "markdown",
   "id": "0837b291-50dd-42b9-9b31-9a18fe9e5159",
   "metadata": {},
   "source": [
    "### Perform Scaling on Numerical Data"
   ]
  },
  {
   "cell_type": "code",
   "execution_count": 247,
   "id": "77bc12d0-7118-466a-85e0-b987d0df0df5",
   "metadata": {},
   "outputs": [],
   "source": [
    "# Make new datframe for indepentdt for indepent \n",
    "df_num_ind=ind.select_dtypes(include = 'number')"
   ]
  },
  {
   "cell_type": "code",
   "execution_count": 249,
   "id": "ecbde681-9d0b-40f2-9230-5bb0cbc74364",
   "metadata": {},
   "outputs": [],
   "source": [
    "# import standrd scalre for scaling \n",
    "from sklearn.preprocessing import StandardScaler"
   ]
  },
  {
   "cell_type": "code",
   "execution_count": 251,
   "id": "05f29d07-7798-4e2b-93bd-7de5c79094ba",
   "metadata": {},
   "outputs": [],
   "source": [
    "# intiate standrd scaler\n",
    "ss = StandardScaler()"
   ]
  },
  {
   "cell_type": "code",
   "execution_count": 253,
   "id": "6ce35c0f-44e7-4e5f-b6eb-1fc3ae288ad3",
   "metadata": {},
   "outputs": [],
   "source": [
    "# Transform the data numarical data\n",
    "scalled=ss.fit_transform(df_num_ind)"
   ]
  },
  {
   "cell_type": "code",
   "execution_count": 255,
   "id": "08fc2d22-6f50-44be-9326-18af87641259",
   "metadata": {},
   "outputs": [
    {
     "data": {
      "text/plain": [
       "array([[-1.13058888,  0.59133061,  0.22301892, ..., -0.59828975,\n",
       "        -1.56128287,  1.5042681 ],\n",
       "       [-0.83576867,  0.02751208,  1.72556151, ..., -0.8453495 ,\n",
       "        -0.74183727, -0.42520838],\n",
       "       [-0.42781795, -0.53046377,  0.13339357, ...,  0.06383036,\n",
       "         1.23848959, -0.45966332],\n",
       "       ...,\n",
       "       [ 1.66205873, -1.25568632,  0.03569535, ..., -0.43028913,\n",
       "        -0.98084224,  0.88407923],\n",
       "       [ 1.46942261,  1.26433421,  1.58889933, ..., -1.34935137,\n",
       "        -1.28813434, -1.38994662],\n",
       "       [ 0.57857222, -0.82898816, -1.22449634, ..., -0.83546711,\n",
       "        -1.49299574, -0.66639294]])"
      ]
     },
     "execution_count": 255,
     "metadata": {},
     "output_type": "execute_result"
    }
   ],
   "source": [
    "# check the normalize data\n",
    "scalled"
   ]
  },
  {
   "cell_type": "code",
   "execution_count": 257,
   "id": "bd7e4093-268c-4246-a9cf-6a5d572aafa2",
   "metadata": {},
   "outputs": [],
   "source": [
    "# create a dataframe for Scalled nurmarical data\n",
    "df_scalled=pd.DataFrame(scalled,columns = df_num_ind.columns)"
   ]
  },
  {
   "cell_type": "code",
   "execution_count": 259,
   "id": "dcf761c2-cabb-4276-b641-251237d3b74a",
   "metadata": {},
   "outputs": [
    {
     "data": {
      "text/html": [
       "<div>\n",
       "<style scoped>\n",
       "    .dataframe tbody tr th:only-of-type {\n",
       "        vertical-align: middle;\n",
       "    }\n",
       "\n",
       "    .dataframe tbody tr th {\n",
       "        vertical-align: top;\n",
       "    }\n",
       "\n",
       "    .dataframe thead th {\n",
       "        text-align: right;\n",
       "    }\n",
       "</style>\n",
       "<table border=\"1\" class=\"dataframe\">\n",
       "  <thead>\n",
       "    <tr style=\"text-align: right;\">\n",
       "      <th></th>\n",
       "      <th>Flight_Hours</th>\n",
       "      <th>Crew_Experience</th>\n",
       "      <th>Altitude</th>\n",
       "      <th>Airspeed</th>\n",
       "      <th>Visibility</th>\n",
       "      <th>Wind_Speed</th>\n",
       "      <th>Temperature</th>\n",
       "      <th>Maintenance_History</th>\n",
       "      <th>Casualties</th>\n",
       "      <th>Survivors</th>\n",
       "      <th>Flight_Data_Anomaly_Score</th>\n",
       "      <th>Crash_Risk_Score</th>\n",
       "    </tr>\n",
       "  </thead>\n",
       "  <tbody>\n",
       "    <tr>\n",
       "      <th>0</th>\n",
       "      <td>-1.130589</td>\n",
       "      <td>0.591331</td>\n",
       "      <td>0.223019</td>\n",
       "      <td>-0.808300</td>\n",
       "      <td>0.637338</td>\n",
       "      <td>0.583596</td>\n",
       "      <td>0.691830</td>\n",
       "      <td>-1.461822</td>\n",
       "      <td>-0.595774</td>\n",
       "      <td>-0.598290</td>\n",
       "      <td>-1.561283</td>\n",
       "      <td>1.504268</td>\n",
       "    </tr>\n",
       "    <tr>\n",
       "      <th>1</th>\n",
       "      <td>-0.835769</td>\n",
       "      <td>0.027512</td>\n",
       "      <td>1.725562</td>\n",
       "      <td>0.464637</td>\n",
       "      <td>-0.744666</td>\n",
       "      <td>-0.591823</td>\n",
       "      <td>-1.091236</td>\n",
       "      <td>0.897858</td>\n",
       "      <td>0.379977</td>\n",
       "      <td>-0.845349</td>\n",
       "      <td>-0.741837</td>\n",
       "      <td>-0.425208</td>\n",
       "    </tr>\n",
       "    <tr>\n",
       "      <th>2</th>\n",
       "      <td>-0.427818</td>\n",
       "      <td>-0.530464</td>\n",
       "      <td>0.133394</td>\n",
       "      <td>0.679350</td>\n",
       "      <td>0.613914</td>\n",
       "      <td>-1.081581</td>\n",
       "      <td>-0.550913</td>\n",
       "      <td>-1.461822</td>\n",
       "      <td>-0.595774</td>\n",
       "      <td>0.063830</td>\n",
       "      <td>1.238490</td>\n",
       "      <td>-0.459663</td>\n",
       "    </tr>\n",
       "    <tr>\n",
       "      <th>3</th>\n",
       "      <td>0.028108</td>\n",
       "      <td>0.144183</td>\n",
       "      <td>-1.004799</td>\n",
       "      <td>-0.815968</td>\n",
       "      <td>1.504018</td>\n",
       "      <td>-0.689775</td>\n",
       "      <td>0.205539</td>\n",
       "      <td>1.487778</td>\n",
       "      <td>-0.449412</td>\n",
       "      <td>-0.627937</td>\n",
       "      <td>0.897054</td>\n",
       "      <td>0.815169</td>\n",
       "    </tr>\n",
       "    <tr>\n",
       "      <th>4</th>\n",
       "      <td>-1.650204</td>\n",
       "      <td>-1.411248</td>\n",
       "      <td>-1.229933</td>\n",
       "      <td>0.748364</td>\n",
       "      <td>0.660762</td>\n",
       "      <td>1.171305</td>\n",
       "      <td>0.637797</td>\n",
       "      <td>-0.871902</td>\n",
       "      <td>-0.595774</td>\n",
       "      <td>1.269482</td>\n",
       "      <td>-1.492996</td>\n",
       "      <td>1.676543</td>\n",
       "    </tr>\n",
       "  </tbody>\n",
       "</table>\n",
       "</div>"
      ],
      "text/plain": [
       "   Flight_Hours  Crew_Experience  Altitude  Airspeed  Visibility  Wind_Speed  \\\n",
       "0     -1.130589         0.591331  0.223019 -0.808300    0.637338    0.583596   \n",
       "1     -0.835769         0.027512  1.725562  0.464637   -0.744666   -0.591823   \n",
       "2     -0.427818        -0.530464  0.133394  0.679350    0.613914   -1.081581   \n",
       "3      0.028108         0.144183 -1.004799 -0.815968    1.504018   -0.689775   \n",
       "4     -1.650204        -1.411248 -1.229933  0.748364    0.660762    1.171305   \n",
       "\n",
       "   Temperature  Maintenance_History  Casualties  Survivors  \\\n",
       "0     0.691830            -1.461822   -0.595774  -0.598290   \n",
       "1    -1.091236             0.897858    0.379977  -0.845349   \n",
       "2    -0.550913            -1.461822   -0.595774   0.063830   \n",
       "3     0.205539             1.487778   -0.449412  -0.627937   \n",
       "4     0.637797            -0.871902   -0.595774   1.269482   \n",
       "\n",
       "   Flight_Data_Anomaly_Score  Crash_Risk_Score  \n",
       "0                  -1.561283          1.504268  \n",
       "1                  -0.741837         -0.425208  \n",
       "2                   1.238490         -0.459663  \n",
       "3                   0.897054          0.815169  \n",
       "4                  -1.492996          1.676543  "
      ]
     },
     "execution_count": 259,
     "metadata": {},
     "output_type": "execute_result"
    }
   ],
   "source": [
    "# check the scalled datdframe\n",
    "df_scalled.head()"
   ]
  },
  {
   "cell_type": "code",
   "execution_count": 261,
   "id": "be092707-b46d-475e-998c-3c7cebf71ba2",
   "metadata": {},
   "outputs": [],
   "source": [
    "# Concate the encoded and scalled dataframe\n",
    "df_main = pd.concat([encoded, df_scalled], axis=1)"
   ]
  },
  {
   "cell_type": "code",
   "execution_count": 267,
   "id": "b8f80fdc-dde3-4184-b94b-f160b163f530",
   "metadata": {},
   "outputs": [
    {
     "data": {
      "text/plain": [
       "Flight_ID_FL0001             0\n",
       "Flight_ID_FL0028             0\n",
       "Flight_ID_FL0031             0\n",
       "Flight_ID_FL0032             0\n",
       "Flight_ID_FL0040             0\n",
       "                            ..\n",
       "Maintenance_History          0\n",
       "Casualties                   0\n",
       "Survivors                    0\n",
       "Flight_Data_Anomaly_Score    0\n",
       "Crash_Risk_Score             0\n",
       "Length: 2837, dtype: int64"
      ]
     },
     "execution_count": 267,
     "metadata": {},
     "output_type": "execute_result"
    }
   ],
   "source": [
    "# check whaether concated \n",
    "df_main.isnull().sum()"
   ]
  },
  {
   "cell_type": "markdown",
   "id": "f16c82e3-8b20-4eca-b53b-6737e39088f6",
   "metadata": {},
   "source": [
    "#### Split the data for traning and Testing"
   ]
  },
  {
   "cell_type": "code",
   "execution_count": 269,
   "id": "833cefad-d37b-4bec-b2f3-c31c059815a0",
   "metadata": {},
   "outputs": [],
   "source": [
    "# import the libray for traning and Testing \n",
    "from sklearn.model_selection import train_test_split"
   ]
  },
  {
   "cell_type": "code",
   "execution_count": 271,
   "id": "35662ce7-dba3-45e6-a6d9-131be853f3c7",
   "metadata": {},
   "outputs": [],
   "source": [
    "# saprat the data\n",
    "X_train,X_test,y_train,y_test=train_test_split(df_main,target,test_size =0.3)"
   ]
  },
  {
   "cell_type": "code",
   "execution_count": 273,
   "id": "dd02b087-a323-4a6c-9b2e-1e1e7b565cbf",
   "metadata": {},
   "outputs": [
    {
     "data": {
      "text/html": [
       "<div>\n",
       "<style scoped>\n",
       "    .dataframe tbody tr th:only-of-type {\n",
       "        vertical-align: middle;\n",
       "    }\n",
       "\n",
       "    .dataframe tbody tr th {\n",
       "        vertical-align: top;\n",
       "    }\n",
       "\n",
       "    .dataframe thead th {\n",
       "        text-align: right;\n",
       "    }\n",
       "</style>\n",
       "<table border=\"1\" class=\"dataframe\">\n",
       "  <thead>\n",
       "    <tr style=\"text-align: right;\">\n",
       "      <th></th>\n",
       "      <th>Flight_ID_FL0001</th>\n",
       "      <th>Flight_ID_FL0028</th>\n",
       "      <th>Flight_ID_FL0031</th>\n",
       "      <th>Flight_ID_FL0032</th>\n",
       "      <th>Flight_ID_FL0040</th>\n",
       "      <th>Flight_ID_FL0047</th>\n",
       "      <th>Flight_ID_FL0058</th>\n",
       "      <th>Flight_ID_FL0068</th>\n",
       "      <th>Flight_ID_FL0086</th>\n",
       "      <th>Flight_ID_FL0092</th>\n",
       "      <th>...</th>\n",
       "      <th>Altitude</th>\n",
       "      <th>Airspeed</th>\n",
       "      <th>Visibility</th>\n",
       "      <th>Wind_Speed</th>\n",
       "      <th>Temperature</th>\n",
       "      <th>Maintenance_History</th>\n",
       "      <th>Casualties</th>\n",
       "      <th>Survivors</th>\n",
       "      <th>Flight_Data_Anomaly_Score</th>\n",
       "      <th>Crash_Risk_Score</th>\n",
       "    </tr>\n",
       "  </thead>\n",
       "  <tbody>\n",
       "    <tr>\n",
       "      <th>386</th>\n",
       "      <td>False</td>\n",
       "      <td>False</td>\n",
       "      <td>False</td>\n",
       "      <td>False</td>\n",
       "      <td>False</td>\n",
       "      <td>False</td>\n",
       "      <td>False</td>\n",
       "      <td>False</td>\n",
       "      <td>False</td>\n",
       "      <td>False</td>\n",
       "      <td>...</td>\n",
       "      <td>1.031871</td>\n",
       "      <td>0.058218</td>\n",
       "      <td>-1.517651</td>\n",
       "      <td>1.563111</td>\n",
       "      <td>1.070056</td>\n",
       "      <td>0.307938</td>\n",
       "      <td>-0.595774</td>\n",
       "      <td>-0.874997</td>\n",
       "      <td>-0.127253</td>\n",
       "      <td>-0.494118</td>\n",
       "    </tr>\n",
       "    <tr>\n",
       "      <th>180</th>\n",
       "      <td>False</td>\n",
       "      <td>False</td>\n",
       "      <td>False</td>\n",
       "      <td>False</td>\n",
       "      <td>False</td>\n",
       "      <td>False</td>\n",
       "      <td>False</td>\n",
       "      <td>False</td>\n",
       "      <td>False</td>\n",
       "      <td>False</td>\n",
       "      <td>...</td>\n",
       "      <td>1.257088</td>\n",
       "      <td>-0.754622</td>\n",
       "      <td>0.426524</td>\n",
       "      <td>1.563111</td>\n",
       "      <td>0.367636</td>\n",
       "      <td>-0.281982</td>\n",
       "      <td>-0.595774</td>\n",
       "      <td>1.427600</td>\n",
       "      <td>1.238490</td>\n",
       "      <td>-1.700041</td>\n",
       "    </tr>\n",
       "    <tr>\n",
       "      <th>941</th>\n",
       "      <td>False</td>\n",
       "      <td>False</td>\n",
       "      <td>False</td>\n",
       "      <td>False</td>\n",
       "      <td>False</td>\n",
       "      <td>False</td>\n",
       "      <td>False</td>\n",
       "      <td>False</td>\n",
       "      <td>False</td>\n",
       "      <td>False</td>\n",
       "      <td>...</td>\n",
       "      <td>-0.067687</td>\n",
       "      <td>0.855720</td>\n",
       "      <td>-0.416733</td>\n",
       "      <td>-0.102066</td>\n",
       "      <td>1.016023</td>\n",
       "      <td>0.307938</td>\n",
       "      <td>-0.595774</td>\n",
       "      <td>-0.420407</td>\n",
       "      <td>1.375064</td>\n",
       "      <td>-0.769758</td>\n",
       "    </tr>\n",
       "    <tr>\n",
       "      <th>694</th>\n",
       "      <td>False</td>\n",
       "      <td>False</td>\n",
       "      <td>False</td>\n",
       "      <td>False</td>\n",
       "      <td>False</td>\n",
       "      <td>False</td>\n",
       "      <td>False</td>\n",
       "      <td>False</td>\n",
       "      <td>False</td>\n",
       "      <td>False</td>\n",
       "      <td>...</td>\n",
       "      <td>-0.687403</td>\n",
       "      <td>-1.161041</td>\n",
       "      <td>0.379676</td>\n",
       "      <td>-0.983630</td>\n",
       "      <td>-0.875107</td>\n",
       "      <td>1.487778</td>\n",
       "      <td>-0.595774</td>\n",
       "      <td>1.892072</td>\n",
       "      <td>0.043465</td>\n",
       "      <td>-0.011749</td>\n",
       "    </tr>\n",
       "    <tr>\n",
       "      <th>864</th>\n",
       "      <td>False</td>\n",
       "      <td>False</td>\n",
       "      <td>False</td>\n",
       "      <td>False</td>\n",
       "      <td>False</td>\n",
       "      <td>False</td>\n",
       "      <td>False</td>\n",
       "      <td>False</td>\n",
       "      <td>False</td>\n",
       "      <td>False</td>\n",
       "      <td>...</td>\n",
       "      <td>-1.347649</td>\n",
       "      <td>-1.483110</td>\n",
       "      <td>1.269781</td>\n",
       "      <td>-1.081581</td>\n",
       "      <td>1.448282</td>\n",
       "      <td>-0.281982</td>\n",
       "      <td>-0.595774</td>\n",
       "      <td>-0.499466</td>\n",
       "      <td>1.579925</td>\n",
       "      <td>1.676543</td>\n",
       "    </tr>\n",
       "  </tbody>\n",
       "</table>\n",
       "<p>5 rows × 2837 columns</p>\n",
       "</div>"
      ],
      "text/plain": [
       "     Flight_ID_FL0001  Flight_ID_FL0028  Flight_ID_FL0031  Flight_ID_FL0032  \\\n",
       "386             False             False             False             False   \n",
       "180             False             False             False             False   \n",
       "941             False             False             False             False   \n",
       "694             False             False             False             False   \n",
       "864             False             False             False             False   \n",
       "\n",
       "     Flight_ID_FL0040  Flight_ID_FL0047  Flight_ID_FL0058  Flight_ID_FL0068  \\\n",
       "386             False             False             False             False   \n",
       "180             False             False             False             False   \n",
       "941             False             False             False             False   \n",
       "694             False             False             False             False   \n",
       "864             False             False             False             False   \n",
       "\n",
       "     Flight_ID_FL0086  Flight_ID_FL0092  ...  Altitude  Airspeed  Visibility  \\\n",
       "386             False             False  ...  1.031871  0.058218   -1.517651   \n",
       "180             False             False  ...  1.257088 -0.754622    0.426524   \n",
       "941             False             False  ... -0.067687  0.855720   -0.416733   \n",
       "694             False             False  ... -0.687403 -1.161041    0.379676   \n",
       "864             False             False  ... -1.347649 -1.483110    1.269781   \n",
       "\n",
       "     Wind_Speed  Temperature  Maintenance_History  Casualties  Survivors  \\\n",
       "386    1.563111     1.070056             0.307938   -0.595774  -0.874997   \n",
       "180    1.563111     0.367636            -0.281982   -0.595774   1.427600   \n",
       "941   -0.102066     1.016023             0.307938   -0.595774  -0.420407   \n",
       "694   -0.983630    -0.875107             1.487778   -0.595774   1.892072   \n",
       "864   -1.081581     1.448282            -0.281982   -0.595774  -0.499466   \n",
       "\n",
       "     Flight_Data_Anomaly_Score  Crash_Risk_Score  \n",
       "386                  -0.127253         -0.494118  \n",
       "180                   1.238490         -1.700041  \n",
       "941                   1.375064         -0.769758  \n",
       "694                   0.043465         -0.011749  \n",
       "864                   1.579925          1.676543  \n",
       "\n",
       "[5 rows x 2837 columns]"
      ]
     },
     "execution_count": 273,
     "metadata": {},
     "output_type": "execute_result"
    }
   ],
   "source": [
    "# check the data we have traning \n",
    "X_train.head()"
   ]
  },
  {
   "cell_type": "code",
   "execution_count": 275,
   "id": "78b408c2-8153-4b31-aadd-5063a6c7a441",
   "metadata": {},
   "outputs": [
    {
     "data": {
      "text/plain": [
       "386     9.9\n",
       "180    11.5\n",
       "941    11.8\n",
       "694    19.0\n",
       "864     2.2\n",
       "Name: Aircraft_Age, dtype: float64"
      ]
     },
     "execution_count": 275,
     "metadata": {},
     "output_type": "execute_result"
    }
   ],
   "source": [
    "y_train.head()"
   ]
  },
  {
   "cell_type": "code",
   "execution_count": 281,
   "id": "3a0fd813-2117-48df-9369-34bed91c78bf",
   "metadata": {},
   "outputs": [
    {
     "data": {
      "text/html": [
       "<div>\n",
       "<style scoped>\n",
       "    .dataframe tbody tr th:only-of-type {\n",
       "        vertical-align: middle;\n",
       "    }\n",
       "\n",
       "    .dataframe tbody tr th {\n",
       "        vertical-align: top;\n",
       "    }\n",
       "\n",
       "    .dataframe thead th {\n",
       "        text-align: right;\n",
       "    }\n",
       "</style>\n",
       "<table border=\"1\" class=\"dataframe\">\n",
       "  <thead>\n",
       "    <tr style=\"text-align: right;\">\n",
       "      <th></th>\n",
       "      <th>514</th>\n",
       "      <th>857</th>\n",
       "      <th>248</th>\n",
       "      <th>216</th>\n",
       "      <th>25</th>\n",
       "    </tr>\n",
       "  </thead>\n",
       "  <tbody>\n",
       "    <tr>\n",
       "      <th>Flight_ID_FL0001</th>\n",
       "      <td>False</td>\n",
       "      <td>False</td>\n",
       "      <td>False</td>\n",
       "      <td>False</td>\n",
       "      <td>False</td>\n",
       "    </tr>\n",
       "    <tr>\n",
       "      <th>Flight_ID_FL0028</th>\n",
       "      <td>False</td>\n",
       "      <td>False</td>\n",
       "      <td>False</td>\n",
       "      <td>False</td>\n",
       "      <td>False</td>\n",
       "    </tr>\n",
       "    <tr>\n",
       "      <th>Flight_ID_FL0031</th>\n",
       "      <td>False</td>\n",
       "      <td>False</td>\n",
       "      <td>False</td>\n",
       "      <td>False</td>\n",
       "      <td>False</td>\n",
       "    </tr>\n",
       "    <tr>\n",
       "      <th>Flight_ID_FL0032</th>\n",
       "      <td>False</td>\n",
       "      <td>False</td>\n",
       "      <td>False</td>\n",
       "      <td>False</td>\n",
       "      <td>False</td>\n",
       "    </tr>\n",
       "    <tr>\n",
       "      <th>Flight_ID_FL0040</th>\n",
       "      <td>False</td>\n",
       "      <td>False</td>\n",
       "      <td>False</td>\n",
       "      <td>False</td>\n",
       "      <td>False</td>\n",
       "    </tr>\n",
       "    <tr>\n",
       "      <th>...</th>\n",
       "      <td>...</td>\n",
       "      <td>...</td>\n",
       "      <td>...</td>\n",
       "      <td>...</td>\n",
       "      <td>...</td>\n",
       "    </tr>\n",
       "    <tr>\n",
       "      <th>Maintenance_History</th>\n",
       "      <td>0.307938</td>\n",
       "      <td>-1.461822</td>\n",
       "      <td>-0.281982</td>\n",
       "      <td>-1.461822</td>\n",
       "      <td>-1.461822</td>\n",
       "    </tr>\n",
       "    <tr>\n",
       "      <th>Casualties</th>\n",
       "      <td>-0.595774</td>\n",
       "      <td>-0.595774</td>\n",
       "      <td>-0.595774</td>\n",
       "      <td>-0.595774</td>\n",
       "      <td>-0.595774</td>\n",
       "    </tr>\n",
       "    <tr>\n",
       "      <th>Survivors</th>\n",
       "      <td>1.150893</td>\n",
       "      <td>0.044066</td>\n",
       "      <td>1.348541</td>\n",
       "      <td>1.121246</td>\n",
       "      <td>-0.637819</td>\n",
       "    </tr>\n",
       "    <tr>\n",
       "      <th>Flight_Data_Anomaly_Score</th>\n",
       "      <td>-1.527139</td>\n",
       "      <td>-0.571119</td>\n",
       "      <td>-0.161397</td>\n",
       "      <td>1.648212</td>\n",
       "      <td>1.477495</td>\n",
       "    </tr>\n",
       "    <tr>\n",
       "      <th>Crash_Risk_Score</th>\n",
       "      <td>0.47062</td>\n",
       "      <td>-0.425208</td>\n",
       "      <td>-1.562221</td>\n",
       "      <td>-0.666393</td>\n",
       "      <td>1.331993</td>\n",
       "    </tr>\n",
       "  </tbody>\n",
       "</table>\n",
       "<p>2837 rows × 5 columns</p>\n",
       "</div>"
      ],
      "text/plain": [
       "                                514       857       248       216       25 \n",
       "Flight_ID_FL0001              False     False     False     False     False\n",
       "Flight_ID_FL0028              False     False     False     False     False\n",
       "Flight_ID_FL0031              False     False     False     False     False\n",
       "Flight_ID_FL0032              False     False     False     False     False\n",
       "Flight_ID_FL0040              False     False     False     False     False\n",
       "...                             ...       ...       ...       ...       ...\n",
       "Maintenance_History        0.307938 -1.461822 -0.281982 -1.461822 -1.461822\n",
       "Casualties                -0.595774 -0.595774 -0.595774 -0.595774 -0.595774\n",
       "Survivors                  1.150893  0.044066  1.348541  1.121246 -0.637819\n",
       "Flight_Data_Anomaly_Score -1.527139 -0.571119 -0.161397  1.648212  1.477495\n",
       "Crash_Risk_Score            0.47062 -0.425208 -1.562221 -0.666393  1.331993\n",
       "\n",
       "[2837 rows x 5 columns]"
      ]
     },
     "execution_count": 281,
     "metadata": {},
     "output_type": "execute_result"
    }
   ],
   "source": [
    "# check the Testing set\n",
    "X_test.head().T"
   ]
  },
  {
   "cell_type": "code",
   "execution_count": 283,
   "id": "4dcd785c-9348-44bc-b13d-931b4e7b5f96",
   "metadata": {},
   "outputs": [
    {
     "data": {
      "text/plain": [
       "514     8.6\n",
       "857    20.4\n",
       "248    14.4\n",
       "216     6.2\n",
       "25     11.5\n",
       "Name: Aircraft_Age, dtype: float64"
      ]
     },
     "execution_count": 283,
     "metadata": {},
     "output_type": "execute_result"
    }
   ],
   "source": [
    "y_test.head()"
   ]
  },
  {
   "cell_type": "markdown",
   "id": "3b38d29d-8a9c-4644-9cd5-890d7e7ea71d",
   "metadata": {},
   "source": [
    "### select the Base Model"
   ]
  },
  {
   "cell_type": "markdown",
   "id": "6fadd027-9f3b-4319-83b9-a2293ec5d023",
   "metadata": {},
   "source": [
    "#### Linear Regression"
   ]
  },
  {
   "cell_type": "code",
   "execution_count": 287,
   "id": "ce872180-4b55-482e-a45a-91692002ce10",
   "metadata": {},
   "outputs": [
    {
     "name": "stdout",
     "output_type": "stream",
     "text": [
      "Mean Squared Error: 59.72459562082178\n"
     ]
    }
   ],
   "source": [
    "from sklearn.model_selection import train_test_split\n",
    "from sklearn.linear_model import LinearRegression\n",
    "from sklearn.metrics import mean_squared_error\n",
    "\n",
    "# Assuming X_train, X_test, y_train, y_test are already defined from train_test_split\n",
    "\n",
    "# Create a linear regression model\n",
    "model = LinearRegression()\n",
    "\n",
    "# Fit the model to the training data\n",
    "model.fit(X_train, y_train)\n",
    "\n",
    "# Predict on the testing data\n",
    "predictions = model.predict(X_test)\n",
    "\n",
    "# Calculate mean squared error\n",
    "mse = mean_squared_error(y_test, predictions)\n",
    "print(\"Mean Squared Error:\", mse)"
   ]
  },
  {
   "cell_type": "markdown",
   "id": "b2a46831-f125-4985-8689-fb4c1727ef88",
   "metadata": {},
   "source": [
    "#### Ridge  Regression"
   ]
  },
  {
   "cell_type": "code",
   "execution_count": 290,
   "id": "d7b1bdb2-ded1-4f1b-819d-72b6c8e50dfe",
   "metadata": {},
   "outputs": [
    {
     "name": "stdout",
     "output_type": "stream",
     "text": [
      "Mean Squared Error: 58.64515499804195\n"
     ]
    }
   ],
   "source": [
    "from sklearn.model_selection import train_test_split\n",
    "from sklearn.linear_model import Ridge\n",
    "from sklearn.metrics import mean_squared_error\n",
    "\n",
    "# Assuming X_train, X_test, y_train, y_test are already defined from train_test_split\n",
    "\n",
    "# Create a Ridge regression model\n",
    "ridge_model = Ridge(alpha=1.0)  # alpha is the regularization strength\n",
    "\n",
    "# Fit the model to the training data\n",
    "ridge_model.fit(X_train, y_train)\n",
    "\n",
    "# Predict on the testing data\n",
    "predictions = ridge_model.predict(X_test)\n",
    "\n",
    "# Calculate mean squared error\n",
    "mse = mean_squared_error(y_test, predictions)\n",
    "print(\"Mean Squared Error:\", mse)"
   ]
  },
  {
   "cell_type": "markdown",
   "id": "10397ec3-ad9d-4291-8988-71047bf23d53",
   "metadata": {},
   "source": [
    "#### Lasso Model"
   ]
  },
  {
   "cell_type": "code",
   "execution_count": 293,
   "id": "a1b5520b-bd7c-4102-a0d3-a85ace730ab0",
   "metadata": {},
   "outputs": [
    {
     "name": "stdout",
     "output_type": "stream",
     "text": [
      "Mean Squared Error: 52.80201865986394\n"
     ]
    }
   ],
   "source": [
    "from sklearn.model_selection import train_test_split\n",
    "from sklearn.linear_model import Lasso\n",
    "from sklearn.metrics import mean_squared_error\n",
    "\n",
    "# Assuming X_train, X_test, y_train, y_test are already defined from train_test_split\n",
    "\n",
    "# Create a Lasso regression model\n",
    "lasso_model = Lasso(alpha=1.0)  # alpha is the regularization strength\n",
    "\n",
    "# Fit the model to the training data\n",
    "lasso_model.fit(X_train, y_train)\n",
    "\n",
    "# Predict on the testing data\n",
    "predictions = lasso_model.predict(X_test)\n",
    "\n",
    "# Calculate mean squared error\n",
    "mse = mean_squared_error(y_test, predictions)\n",
    "print(\"Mean Squared Error:\", mse)"
   ]
  },
  {
   "cell_type": "markdown",
   "id": "babb6d49-3831-49f5-9fb1-6002672df1ed",
   "metadata": {},
   "source": [
    "#### Decision Tree Regressor"
   ]
  },
  {
   "cell_type": "code",
   "execution_count": 301,
   "id": "76da096a-ec96-498e-8372-55a6cae7a574",
   "metadata": {},
   "outputs": [
    {
     "name": "stdout",
     "output_type": "stream",
     "text": [
      "Mean Squared Error: 106.63893333333334\n"
     ]
    }
   ],
   "source": [
    "from sklearn.model_selection import train_test_split\n",
    "from sklearn.tree import DecisionTreeRegressor\n",
    "from sklearn.metrics import mean_squared_error\n",
    "\n",
    "# Assuming X_train, X_test, y_train, y_test are already defined from train_test_split\n",
    "\n",
    "# Create a Decision Tree regression model\n",
    "tree_model = DecisionTreeRegressor()\n",
    "\n",
    "# Fit the model to the training data\n",
    "tree_model.fit(X_train, y_train)\n",
    "\n",
    "# Predict on the testing data\n",
    "predictions = tree_model.predict(X_test)\n",
    "\n",
    "# Calculate mean squared error\n",
    "mse = mean_squared_error(y_test, predictions)\n",
    "print(\"Mean Squared Error:\", mse)"
   ]
  },
  {
   "cell_type": "markdown",
   "id": "923ad172-e4aa-437d-8e11-2f0095e43ee0",
   "metadata": {},
   "source": [
    "#### Random Forest Regressor"
   ]
  },
  {
   "cell_type": "code",
   "execution_count": 304,
   "id": "6bf9723f-6d9d-45dd-8ec0-d727fda414f1",
   "metadata": {},
   "outputs": [
    {
     "name": "stdout",
     "output_type": "stream",
     "text": [
      "Mean Squared Error: 56.85458422666667\n"
     ]
    }
   ],
   "source": [
    "from sklearn.model_selection import train_test_split\n",
    "from sklearn.ensemble import RandomForestRegressor\n",
    "from sklearn.metrics import mean_squared_error\n",
    "\n",
    "# Assuming X_train, X_test, y_train, y_test are already defined from train_test_split\n",
    "\n",
    "# Create a Random Forest regression model\n",
    "forest_model = RandomForestRegressor(n_estimators=100, random_state=42)\n",
    "\n",
    "# Fit the model to the training data\n",
    "forest_model.fit(X_train, y_train)\n",
    "\n",
    "# Predict on the testing data\n",
    "predictions = forest_model.predict(X_test)\n",
    "\n",
    "# Calculate mean squared error\n",
    "mse = mean_squared_error(y_test, predictions)\n",
    "print(\"Mean Squared Error:\", mse)"
   ]
  }
 ],
 "metadata": {
  "kernelspec": {
   "display_name": "Python 3 (ipykernel)",
   "language": "python",
   "name": "python3"
  },
  "language_info": {
   "codemirror_mode": {
    "name": "ipython",
    "version": 3
   },
   "file_extension": ".py",
   "mimetype": "text/x-python",
   "name": "python",
   "nbconvert_exporter": "python",
   "pygments_lexer": "ipython3",
   "version": "3.12.4"
  }
 },
 "nbformat": 4,
 "nbformat_minor": 5
}
